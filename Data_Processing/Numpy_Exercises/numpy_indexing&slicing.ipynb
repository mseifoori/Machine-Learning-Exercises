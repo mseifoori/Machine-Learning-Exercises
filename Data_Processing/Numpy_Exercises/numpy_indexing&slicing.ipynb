{
 "cells": [
  {
   "cell_type": "code",
   "execution_count": 1,
   "id": "70b98fba",
   "metadata": {},
   "outputs": [],
   "source": [
    "import numpy as np"
   ]
  },
  {
   "cell_type": "code",
   "execution_count": 38,
   "id": "0c2c0353",
   "metadata": {},
   "outputs": [],
   "source": [
    "arr = np.array([10, 20, 30, 40, 50])\n",
    "arr_2d = np.array([[1, 2, 3, 4], [5, 6, 7, 8], [9, 10, 11, 12], [13, 14, 15, 16]])"
   ]
  },
  {
   "cell_type": "code",
   "execution_count": 39,
   "id": "4ef967d1",
   "metadata": {},
   "outputs": [
    {
     "data": {
      "text/plain": [
       "np.int64(7)"
      ]
     },
     "execution_count": 39,
     "metadata": {},
     "output_type": "execute_result"
    }
   ],
   "source": [
    "arr_2d[1, 2]"
   ]
  },
  {
   "cell_type": "code",
   "execution_count": 40,
   "id": "bf5a734d",
   "metadata": {},
   "outputs": [
    {
     "data": {
      "text/plain": [
       "array([[ 6,  7],\n",
       "       [10, 11],\n",
       "       [14, 15]])"
      ]
     },
     "execution_count": 40,
     "metadata": {},
     "output_type": "execute_result"
    }
   ],
   "source": [
    "arr_2d[1: , 1:3]"
   ]
  },
  {
   "cell_type": "code",
   "execution_count": 73,
   "id": "08379239",
   "metadata": {},
   "outputs": [],
   "source": [
    "arr = np.random.randint(1, 50, size=15)"
   ]
  },
  {
   "cell_type": "code",
   "execution_count": 74,
   "id": "a69a9292",
   "metadata": {},
   "outputs": [
    {
     "data": {
      "text/plain": [
       "array([30, 26, 27, 28, 47, 29])"
      ]
     },
     "execution_count": 74,
     "metadata": {},
     "output_type": "execute_result"
    }
   ],
   "source": [
    "arr[arr > 25]"
   ]
  },
  {
   "cell_type": "code",
   "execution_count": 75,
   "id": "b0f44b17",
   "metadata": {},
   "outputs": [],
   "source": [
    "arr_1 = np.random.randint(1, 100000, 100)"
   ]
  },
  {
   "cell_type": "code",
   "execution_count": 76,
   "id": "c89133d8",
   "metadata": {},
   "outputs": [
    {
     "data": {
      "text/plain": [
       "array([8222, 2180, 5268, 5500])"
      ]
     },
     "execution_count": 76,
     "metadata": {},
     "output_type": "execute_result"
    }
   ],
   "source": [
    "arr_1[(arr_1 % 2 == 0) & (arr_1 < 10000)]"
   ]
  },
  {
   "cell_type": "code",
   "execution_count": 77,
   "id": "9b2837cc",
   "metadata": {},
   "outputs": [
    {
     "data": {
      "text/plain": [
       "array([30, 10, 50, 70])"
      ]
     },
     "execution_count": 77,
     "metadata": {},
     "output_type": "execute_result"
    }
   ],
   "source": [
    "arr = np.array([10, 20, 30, 40, 50, 60, 70, 80, 90])\n",
    "arr[[2, 0, 4, 6]]"
   ]
  },
  {
   "cell_type": "code",
   "execution_count": 82,
   "id": "2ac6ccdf",
   "metadata": {},
   "outputs": [],
   "source": [
    "arr[[2, 4, 6]] = [1, 3, 8]"
   ]
  },
  {
   "cell_type": "code",
   "execution_count": 83,
   "id": "5462cf85",
   "metadata": {},
   "outputs": [
    {
     "data": {
      "text/plain": [
       "array([10, 20,  1, 40,  3, 60,  8, 80, 90])"
      ]
     },
     "execution_count": 83,
     "metadata": {},
     "output_type": "execute_result"
    }
   ],
   "source": [
    "arr"
   ]
  },
  {
   "cell_type": "code",
   "execution_count": 127,
   "id": "fc1524c5",
   "metadata": {},
   "outputs": [],
   "source": [
    "list_1 = [1, 2, 3, 4, 5]\n",
    "arr_1 = np.array([1, 2, 3, 4, 5])"
   ]
  },
  {
   "cell_type": "code",
   "execution_count": null,
   "id": "86cd4d69",
   "metadata": {},
   "outputs": [],
   "source": [
    "temp_list = list_1[1:4] # copy\n",
    "temp_arr = arr_1[1:4] # view"
   ]
  },
  {
   "cell_type": "code",
   "execution_count": 134,
   "id": "578ced47",
   "metadata": {},
   "outputs": [
    {
     "data": {
      "text/plain": [
       "[2, 3, 4]"
      ]
     },
     "execution_count": 134,
     "metadata": {},
     "output_type": "execute_result"
    }
   ],
   "source": [
    "temp_list"
   ]
  },
  {
   "cell_type": "code",
   "execution_count": 135,
   "id": "6c2f002c",
   "metadata": {},
   "outputs": [
    {
     "data": {
      "text/plain": [
       "array([2, 3, 4])"
      ]
     },
     "execution_count": 135,
     "metadata": {},
     "output_type": "execute_result"
    }
   ],
   "source": [
    "temp_arr"
   ]
  },
  {
   "cell_type": "code",
   "execution_count": 136,
   "id": "c0ca9f3e",
   "metadata": {},
   "outputs": [],
   "source": [
    "temp_list[1] = 0\n",
    "temp_arr[1] = 0"
   ]
  },
  {
   "cell_type": "code",
   "execution_count": 138,
   "id": "03521737",
   "metadata": {},
   "outputs": [
    {
     "data": {
      "text/plain": [
       "[2, 0, 4]"
      ]
     },
     "execution_count": 138,
     "metadata": {},
     "output_type": "execute_result"
    }
   ],
   "source": [
    "temp_list"
   ]
  },
  {
   "cell_type": "code",
   "execution_count": 139,
   "id": "e156b3ed",
   "metadata": {},
   "outputs": [
    {
     "data": {
      "text/plain": [
       "array([2, 0, 4])"
      ]
     },
     "execution_count": 139,
     "metadata": {},
     "output_type": "execute_result"
    }
   ],
   "source": [
    "temp_arr"
   ]
  },
  {
   "cell_type": "code",
   "execution_count": 140,
   "id": "526e12f2",
   "metadata": {},
   "outputs": [
    {
     "data": {
      "text/plain": [
       "[1, 2, 3, 4, 5]"
      ]
     },
     "execution_count": 140,
     "metadata": {},
     "output_type": "execute_result"
    }
   ],
   "source": [
    "list_1"
   ]
  },
  {
   "cell_type": "code",
   "execution_count": 141,
   "id": "d3ee5893",
   "metadata": {},
   "outputs": [
    {
     "data": {
      "text/plain": [
       "array([1, 2, 0, 4, 5])"
      ]
     },
     "execution_count": 141,
     "metadata": {},
     "output_type": "execute_result"
    }
   ],
   "source": [
    "arr_1"
   ]
  },
  {
   "cell_type": "markdown",
   "id": "f0b7217b",
   "metadata": {},
   "source": [
    "# Practice Exercises: Analyzing Temperature Data"
   ]
  },
  {
   "cell_type": "markdown",
   "id": "b587846a",
   "metadata": {},
   "source": [
    "You are given a NumPy array `temperatures` that contains the daily temperature readings for a city over a period of one week. The array has shape `(7, 24)`, representing 7 days and 24 hourly temperature readings per day.\n"
   ]
  },
  {
   "cell_type": "code",
   "execution_count": 174,
   "id": "c1ce74dd",
   "metadata": {},
   "outputs": [],
   "source": [
    "import numpy as np\n",
    "\n",
    "temperatures = np.array([[12, 14, 15, 16, 17, 18, 19, 20, 21, 22, 23, 24,\n",
    "                          23, 22, 21, 20, 19, 18, 17, 16, 15, 14, 13, 12],\n",
    "                         [13, 15, 16, 17, 18, 19, 20, 21, 22, 23, 24, 25,\n",
    "                          24, 23, 22, 21, 20, 19, 18, 17, 16, 15, 14, 13],\n",
    "                         [14, 16, 17, 18, 19, 20, 21, 22, 23, 24, 25, 26,\n",
    "                          25, 24, 23, 22, 21, 20, 19, 18, 17, 16, 15, 14],\n",
    "                         [15, 17, 18, 19, 20, 21, 22, 23, 24, 25, 26, 27,\n",
    "                          26, 25, 24, 23, 22, 21, 20, 19, 18, 17, 16, 15],\n",
    "                         [16, 18, 19, 20, 21, 22, 23, 24, 25, 26, 27, 28,\n",
    "                          27, 26, 25, 24, 23, 22, 21, 20, 19, 18, 17, 16],\n",
    "                         [17, 19, 20, 21, 22, 23, 24, 25, 26, 27, 28, 29,\n",
    "                          28, 27, 26, 25, 24, 23, 22, 21, 20, 19, 18, 17],\n",
    "                         [18, 20, 21, 22, 23, 24, 25, 26, 27, 28, 29, 30,\n",
    "                          29, 28, 27, 26, 25, 24, 23, 22, 21, 20, 19, 18]])"
   ]
  },
  {
   "cell_type": "markdown",
   "id": "c59f3e08",
   "metadata": {},
   "source": [
    "Your task is to perform the following operations using indexing and slicing:\n",
    "\n",
    "1. Extract the temperature readings for the first day.\n",
    "2. Extract the temperature readings for the last day.\n",
    "3. Extract the temperature readings for the first 12 hours of each day.\n",
    "4. Extract the temperature readings for the last 6 hours of each day.\n",
    "5. Extract the temperature readings for every other hour of the fourth day.\n",
    "6. Modify the temperature readings for the first 3 hours of the fifth day to be 10 degrees higher.\n",
    "7. Create a boolean mask to find all temperature readings above 25 degrees.\n"
   ]
  },
  {
   "cell_type": "code",
   "execution_count": 175,
   "id": "5da98c0d",
   "metadata": {},
   "outputs": [
    {
     "data": {
      "text/plain": [
       "array([12, 14, 15, 16, 17, 18, 19, 20, 21, 22, 23, 24, 23, 22, 21, 20, 19,\n",
       "       18, 17, 16, 15, 14, 13, 12])"
      ]
     },
     "execution_count": 175,
     "metadata": {},
     "output_type": "execute_result"
    }
   ],
   "source": [
    "first_day_temps = temperatures[0]\n",
    "first_day_temps"
   ]
  },
  {
   "cell_type": "code",
   "execution_count": 176,
   "id": "2ac6004d",
   "metadata": {},
   "outputs": [
    {
     "data": {
      "text/plain": [
       "array([18, 20, 21, 22, 23, 24, 25, 26, 27, 28, 29, 30, 29, 28, 27, 26, 25,\n",
       "       24, 23, 22, 21, 20, 19, 18])"
      ]
     },
     "execution_count": 176,
     "metadata": {},
     "output_type": "execute_result"
    }
   ],
   "source": [
    "last_day_temps = temperatures[-1]\n",
    "last_day_temps"
   ]
  },
  {
   "cell_type": "code",
   "execution_count": 177,
   "id": "b05b9e0f",
   "metadata": {},
   "outputs": [
    {
     "data": {
      "text/plain": [
       "array([[12, 14, 15, 16, 17, 18, 19, 20, 21, 22, 23, 24, 23],\n",
       "       [13, 15, 16, 17, 18, 19, 20, 21, 22, 23, 24, 25, 24],\n",
       "       [14, 16, 17, 18, 19, 20, 21, 22, 23, 24, 25, 26, 25],\n",
       "       [15, 17, 18, 19, 20, 21, 22, 23, 24, 25, 26, 27, 26],\n",
       "       [16, 18, 19, 20, 21, 22, 23, 24, 25, 26, 27, 28, 27],\n",
       "       [17, 19, 20, 21, 22, 23, 24, 25, 26, 27, 28, 29, 28],\n",
       "       [18, 20, 21, 22, 23, 24, 25, 26, 27, 28, 29, 30, 29]])"
      ]
     },
     "execution_count": 177,
     "metadata": {},
     "output_type": "execute_result"
    }
   ],
   "source": [
    "first_12hr_temps = temperatures[: , 0:13]\n",
    "first_12hr_temps"
   ]
  },
  {
   "cell_type": "code",
   "execution_count": 178,
   "id": "e510d36d",
   "metadata": {},
   "outputs": [
    {
     "data": {
      "text/plain": [
       "array([[17, 16, 15, 14, 13, 12],\n",
       "       [18, 17, 16, 15, 14, 13],\n",
       "       [19, 18, 17, 16, 15, 14],\n",
       "       [20, 19, 18, 17, 16, 15],\n",
       "       [21, 20, 19, 18, 17, 16],\n",
       "       [22, 21, 20, 19, 18, 17],\n",
       "       [23, 22, 21, 20, 19, 18]])"
      ]
     },
     "execution_count": 178,
     "metadata": {},
     "output_type": "execute_result"
    }
   ],
   "source": [
    "last_6hr_temps = temperatures[: , -6:]\n",
    "last_6hr_temps"
   ]
  },
  {
   "cell_type": "code",
   "execution_count": 179,
   "id": "e51201b2",
   "metadata": {},
   "outputs": [
    {
     "data": {
      "text/plain": [
       "array([15, 18, 20, 22, 24, 26, 26, 24, 22, 20, 18, 16])"
      ]
     },
     "execution_count": 179,
     "metadata": {},
     "output_type": "execute_result"
    }
   ],
   "source": [
    "fourth_day_temps = temperatures[3, ::2]\n",
    "fourth_day_temps"
   ]
  },
  {
   "cell_type": "code",
   "execution_count": 180,
   "id": "129ca652",
   "metadata": {},
   "outputs": [],
   "source": [
    "temperatures[4, :3] += 10"
   ]
  },
  {
   "cell_type": "code",
   "execution_count": 184,
   "id": "2da473d5",
   "metadata": {},
   "outputs": [
    {
     "data": {
      "text/plain": [
       "array([26, 26, 27, 26, 26, 28, 29, 26, 27, 28, 27, 26, 26, 27, 28, 29, 28,\n",
       "       27, 26, 26, 27, 28, 29, 30, 29, 28, 27, 26])"
      ]
     },
     "execution_count": 184,
     "metadata": {},
     "output_type": "execute_result"
    }
   ],
   "source": [
    "above_25_mask = temperatures > 25 # The boolean mask\n",
    "above_25_temps = temperatures[above_25_mask]\n",
    "above_25_temps"
   ]
  }
 ],
 "metadata": {
  "kernelspec": {
   "display_name": "my_projects_env",
   "language": "python",
   "name": "python3"
  },
  "language_info": {
   "codemirror_mode": {
    "name": "ipython",
    "version": 3
   },
   "file_extension": ".py",
   "mimetype": "text/x-python",
   "name": "python",
   "nbconvert_exporter": "python",
   "pygments_lexer": "ipython3",
   "version": "3.13.5"
  }
 },
 "nbformat": 4,
 "nbformat_minor": 5
}
