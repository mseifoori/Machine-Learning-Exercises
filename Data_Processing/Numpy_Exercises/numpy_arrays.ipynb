{
 "cells": [
  {
   "cell_type": "code",
   "execution_count": 4,
   "id": "a8de7cff",
   "metadata": {},
   "outputs": [],
   "source": [
    "import numpy as np"
   ]
  },
  {
   "cell_type": "code",
   "execution_count": 5,
   "id": "263f1bd4",
   "metadata": {},
   "outputs": [],
   "source": [
    "arr = np.array([1, 2, 3, 4])"
   ]
  },
  {
   "cell_type": "code",
   "execution_count": 6,
   "id": "8d8d1fbf",
   "metadata": {},
   "outputs": [
    {
     "data": {
      "text/plain": [
       "array([1, 2, 3, 4])"
      ]
     },
     "execution_count": 6,
     "metadata": {},
     "output_type": "execute_result"
    }
   ],
   "source": [
    "arr"
   ]
  },
  {
   "cell_type": "code",
   "execution_count": 7,
   "id": "4580d43d",
   "metadata": {},
   "outputs": [
    {
     "data": {
      "text/plain": [
       "array([[1, 2, 3],\n",
       "       [4, 5, 6],\n",
       "       [7, 8, 9]])"
      ]
     },
     "execution_count": 7,
     "metadata": {},
     "output_type": "execute_result"
    }
   ],
   "source": [
    "arr = np.array([\n",
    "    [1, 2, 3],\n",
    "    [4, 5, 6],\n",
    "    [7, 8, 9]\n",
    "])\n",
    "arr"
   ]
  },
  {
   "cell_type": "code",
   "execution_count": 8,
   "id": "c4ad2486",
   "metadata": {},
   "outputs": [
    {
     "data": {
      "text/plain": [
       "array([[[1, 2],\n",
       "        [3, 4]],\n",
       "\n",
       "       [[5, 6],\n",
       "        [7, 8]]])"
      ]
     },
     "execution_count": 8,
     "metadata": {},
     "output_type": "execute_result"
    }
   ],
   "source": [
    "arr_3d = np.array([[[1, 2], [3, 4]], [[5, 6], [7, 8]]])\n",
    "arr_3d"
   ]
  },
  {
   "cell_type": "code",
   "execution_count": 9,
   "id": "803b839f",
   "metadata": {},
   "outputs": [
    {
     "data": {
      "text/plain": [
       "array([1. , 1.5, 2. , 2.5, 3. , 3.5, 4. , 4.5])"
      ]
     },
     "execution_count": 9,
     "metadata": {},
     "output_type": "execute_result"
    }
   ],
   "source": [
    "np.arange(1, 5, 0.5)"
   ]
  },
  {
   "cell_type": "code",
   "execution_count": 10,
   "id": "a6a416ef",
   "metadata": {},
   "outputs": [
    {
     "data": {
      "text/plain": [
       "array([ 1. ,  5.5, 10. ])"
      ]
     },
     "execution_count": 10,
     "metadata": {},
     "output_type": "execute_result"
    }
   ],
   "source": [
    "np.linspace(1, 10, 3)"
   ]
  },
  {
   "cell_type": "code",
   "execution_count": 11,
   "id": "bae63dba",
   "metadata": {},
   "outputs": [
    {
     "data": {
      "text/plain": [
       "array([[0., 0., 0.],\n",
       "       [0., 0., 0.]])"
      ]
     },
     "execution_count": 11,
     "metadata": {},
     "output_type": "execute_result"
    }
   ],
   "source": [
    "np.zeros((2, 3))\n",
    "# "
   ]
  },
  {
   "cell_type": "code",
   "execution_count": 12,
   "id": "608efc3e",
   "metadata": {},
   "outputs": [
    {
     "data": {
      "text/plain": [
       "array([[1., 0., 0.],\n",
       "       [0., 1., 0.],\n",
       "       [0., 0., 1.]])"
      ]
     },
     "execution_count": 12,
     "metadata": {},
     "output_type": "execute_result"
    }
   ],
   "source": [
    "np.eye(3)"
   ]
  },
  {
   "cell_type": "code",
   "execution_count": 13,
   "id": "770a2a5f",
   "metadata": {},
   "outputs": [
    {
     "data": {
      "text/plain": [
       "array([[[0., 0.],\n",
       "        [0., 0.],\n",
       "        [0., 0.]],\n",
       "\n",
       "       [[0., 0.],\n",
       "        [0., 0.],\n",
       "        [0., 0.]]])"
      ]
     },
     "execution_count": 13,
     "metadata": {},
     "output_type": "execute_result"
    }
   ],
   "source": [
    "np.zeros((2, 3, 2))"
   ]
  },
  {
   "cell_type": "code",
   "execution_count": 14,
   "id": "13e910ec",
   "metadata": {},
   "outputs": [],
   "source": [
    "arr_1 = np.random.rand(2)\n",
    "arr_2= np.random.randint(3, 10, size=3)"
   ]
  },
  {
   "cell_type": "code",
   "execution_count": 15,
   "id": "7d3347f2",
   "metadata": {},
   "outputs": [
    {
     "data": {
      "text/plain": [
       "array([8, 5, 3])"
      ]
     },
     "execution_count": 15,
     "metadata": {},
     "output_type": "execute_result"
    }
   ],
   "source": [
    "arr_2"
   ]
  },
  {
   "cell_type": "markdown",
   "id": "c2725ff2",
   "metadata": {},
   "source": [
    "# Practice Exercise: Analyzing Customer Data\n",
    "\n",
    "You are working with customer data for an e-commerce company. The data includes customer IDs, ages, and purchase amounts. Your task is to create NumPy arrays to store and analyze this data.\n",
    "\n",
    "1. Create a 1-dimensional NumPy array called `customer_ids` that contains the following customer IDs: 1001, 1002, 1003, 1004, 1005.\n",
    "\n",
    "2. Create a 1-dimensional NumPy array called `ages` that contains the ages of the customers: 25, 30, 35, 40, 45. Use the `np.arange()` function to create this array.\n",
    "\n",
    "3. Create a 2-dimensional NumPy array called `purchase_amounts` that contains the purchase amounts for each customer over three months:\n",
    "   - Month 1: 100, 200, 300, 400, 500\n",
    "   - Month 2: 150, 250, 350, 450, 550\n",
    "   - Month 3: 200, 300, 400, 500, 600\n",
    "\n",
    "4. Create a 3-dimensional NumPy array called `sales_data` that combines the customer IDs, ages, and purchase amounts. The shape of the array should be (5, 3, 2), where:\n",
    "   - The first dimension represents the customers\n",
    "   - The second dimension represents the months\n",
    "   - The third dimension represents the customer ID and age for each customer\n",
    "\n",
    "5. Create a NumPy array called `large_purchases` that contains the purchase amounts greater than 300. Use boolean indexing to create this array.\n",
    "\n",
    "6. Create a random integer array called `random_purchases` with shape (3, 5) that represents random purchase amounts between 100 and 1000."
   ]
  },
  {
   "cell_type": "code",
   "execution_count": 18,
   "id": "c2602e64",
   "metadata": {},
   "outputs": [],
   "source": [
    "customer_ids = np.array([1001, 1002, 1003, 1004, 1005])\n",
    "ages = np.arange(25, 50, 5)\n",
    "purchase_amounts = np.array([\n",
    "    [100, 200, 300, 400, 500],\n",
    "    [150, 250, 350, 450, 550],\n",
    "    [200, 300, 400, 500, 600]\n",
    "])"
   ]
  },
  {
   "cell_type": "code",
   "execution_count": 19,
   "id": "be0bf971",
   "metadata": {},
   "outputs": [
    {
     "data": {
      "text/plain": [
       "array([400, 500, 350, 450, 550, 400, 500, 600])"
      ]
     },
     "execution_count": 19,
     "metadata": {},
     "output_type": "execute_result"
    }
   ],
   "source": [
    "large_purchases = purchase_amounts[purchase_amounts > 300]\n",
    "large_purchases"
   ]
  },
  {
   "cell_type": "code",
   "execution_count": 21,
   "id": "702e4d67",
   "metadata": {},
   "outputs": [
    {
     "data": {
      "text/plain": [
       "array([[693, 654, 178, 230, 401],\n",
       "       [429, 497, 870, 801, 615],\n",
       "       [635, 775, 510, 664, 716]])"
      ]
     },
     "execution_count": 21,
     "metadata": {},
     "output_type": "execute_result"
    }
   ],
   "source": [
    "random_purchases = np.random.randint(100 ,1000, (3, 5))\n",
    "random_purchases"
   ]
  }
 ],
 "metadata": {
  "kernelspec": {
   "display_name": "my_projects_env",
   "language": "python",
   "name": "python3"
  },
  "language_info": {
   "codemirror_mode": {
    "name": "ipython",
    "version": 3
   },
   "file_extension": ".py",
   "mimetype": "text/x-python",
   "name": "python",
   "nbconvert_exporter": "python",
   "pygments_lexer": "ipython3",
   "version": "3.13.3"
  }
 },
 "nbformat": 4,
 "nbformat_minor": 5
}
