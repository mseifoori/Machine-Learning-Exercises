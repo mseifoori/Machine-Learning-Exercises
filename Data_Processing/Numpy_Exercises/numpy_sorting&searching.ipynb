{
 "cells": [
  {
   "cell_type": "code",
   "execution_count": 1,
   "id": "35e20ac8",
   "metadata": {},
   "outputs": [],
   "source": [
    "import numpy as np"
   ]
  },
  {
   "cell_type": "code",
   "execution_count": 10,
   "id": "290b4580",
   "metadata": {},
   "outputs": [],
   "source": [
    "random_numbers = np.random.randint(1, 10000, (5, 3))"
   ]
  },
  {
   "cell_type": "code",
   "execution_count": 17,
   "id": "6f69af5d",
   "metadata": {},
   "outputs": [
    {
     "data": {
      "text/plain": [
       "(array([1, 2, 3, 3, 3, 4, 4, 4]), array([1, 0, 0, 1, 2, 0, 1, 2]))"
      ]
     },
     "execution_count": 17,
     "metadata": {},
     "output_type": "execute_result"
    }
   ],
   "source": [
    "np.where(random_numbers > 5000)"
   ]
  },
  {
   "cell_type": "code",
   "execution_count": 13,
   "id": "9922ebe5",
   "metadata": {},
   "outputs": [
    {
     "data": {
      "text/plain": [
       "array([[4015, 4640, 3063],\n",
       "       [ 478, 5124, 2450],\n",
       "       [9301, 1640, 2303],\n",
       "       [9300, 5475, 5104],\n",
       "       [6329, 8275, 5937]])"
      ]
     },
     "execution_count": 13,
     "metadata": {},
     "output_type": "execute_result"
    }
   ],
   "source": [
    "random_numbers"
   ]
  },
  {
   "cell_type": "code",
   "execution_count": 22,
   "id": "4c5a33ca",
   "metadata": {},
   "outputs": [],
   "source": [
    "arr = np.random.randint(1, 1000, (10, 10))"
   ]
  },
  {
   "cell_type": "code",
   "execution_count": 23,
   "id": "2f62d228",
   "metadata": {},
   "outputs": [
    {
     "data": {
      "text/plain": [
       "array([[138, 463, 342,   0,   0,   0,   0, 313,   0, 340],\n",
       "       [  0,   0,   0,   0,   0,   0,  47, 283,   0, 159],\n",
       "       [165, 473,   0,   0, 450,   0, 431, 213,   0, 352],\n",
       "       [438,   0,   0,   0, 218,   0, 462,   0, 204,  67],\n",
       "       [  0,   0,   0,   0,   0, 131,   0, 438,   0,   0],\n",
       "       [  0,   0, 255, 147, 316,   0,   0,   0,   0, 346],\n",
       "       [161, 117,  62,   0, 498, 225,  51, 117, 484,   0],\n",
       "       [  0,   0,   0, 460, 472,   0, 161, 293,   0,   0],\n",
       "       [  0, 346,  83, 210, 487,   0,   0, 464,   0, 243],\n",
       "       [  0, 394,  11, 445,  74,  24, 170,   0,  93,   0]])"
      ]
     },
     "execution_count": 23,
     "metadata": {},
     "output_type": "execute_result"
    }
   ],
   "source": [
    "filtered_arr = np.where(arr > 500, 0, arr)\n",
    "filtered_arr"
   ]
  },
  {
   "cell_type": "code",
   "execution_count": 25,
   "id": "a4589f05",
   "metadata": {},
   "outputs": [
    {
     "name": "stdout",
     "output_type": "stream",
     "text": [
      "[1 2 3 4 5]\n",
      "[1 2 1 2 1]\n"
     ]
    }
   ],
   "source": [
    "arr = np.array([1, 2, 2, 3, 4, 4, 5])\n",
    "unique_arr = np.unique(arr)\n",
    "unique_arr, counts = np.unique(arr, return_counts=True)\n",
    "print(f'{unique_arr}\\n{counts}')"
   ]
  },
  {
   "cell_type": "markdown",
   "id": "7b2a68ee",
   "metadata": {},
   "source": [
    "# Practice Exercise: Analyzing Student Grades\n",
    "\n",
    "You are given a NumPy array `grades` that contains the grades of a group of students in a course. Your task is to perform the following operations:\n",
    "\n",
    "1. Sort the grades in ascending order.\n",
    "2. Find the top 5 grades using array slicing.\n",
    "3. Determine the number of students who passed the course (grade >= 60).\n",
    "4. Identify the students who scored below the mean grade.\n",
    "5. Find the unique grades in the array."
   ]
  },
  {
   "cell_type": "code",
   "execution_count": 32,
   "id": "01b25ce7",
   "metadata": {},
   "outputs": [],
   "source": [
    "grades = np.array([85, 72, 90, 68, 77, 82, 92, 60, 55, 75, 88, 80, 95, 78, 65])"
   ]
  },
  {
   "cell_type": "code",
   "execution_count": 33,
   "id": "1934bbbe",
   "metadata": {},
   "outputs": [
    {
     "data": {
      "text/plain": [
       "array([55, 60, 65, 68, 72, 75, 77, 78, 80, 82, 85, 88, 90, 92, 95])"
      ]
     },
     "execution_count": 33,
     "metadata": {},
     "output_type": "execute_result"
    }
   ],
   "source": [
    "sorted_grades = np.sort(grades)\n",
    "sorted_grades"
   ]
  },
  {
   "cell_type": "code",
   "execution_count": 38,
   "id": "62582bd5",
   "metadata": {},
   "outputs": [
    {
     "data": {
      "text/plain": [
       "array([95, 92, 90, 88, 85])"
      ]
     },
     "execution_count": 38,
     "metadata": {},
     "output_type": "execute_result"
    }
   ],
   "source": [
    "top_5_grades = sorted_grades[-1:-6:-1]\n",
    "top_5_grades"
   ]
  },
  {
   "cell_type": "code",
   "execution_count": 40,
   "id": "d25d0168",
   "metadata": {},
   "outputs": [
    {
     "name": "stdout",
     "output_type": "stream",
     "text": [
      "14\n"
     ]
    }
   ],
   "source": [
    "passed_students = np.where(grades >= 60)\n",
    "print(np.size(passed_students))"
   ]
  },
  {
   "cell_type": "code",
   "execution_count": 43,
   "id": "9b49a7cd",
   "metadata": {},
   "outputs": [
    {
     "data": {
      "text/plain": [
       "array([72, 68, 77, 60, 55, 75, 65])"
      ]
     },
     "execution_count": 43,
     "metadata": {},
     "output_type": "execute_result"
    }
   ],
   "source": [
    "mean_grade = np.mean(grades)\n",
    "grades_below_mean = np.where(grades < mean_grade)\n",
    "grades[grades_below_mean]"
   ]
  },
  {
   "cell_type": "code",
   "execution_count": 44,
   "id": "b3c8a8d3",
   "metadata": {},
   "outputs": [
    {
     "data": {
      "text/plain": [
       "array([55, 60, 65, 68, 72, 75, 77, 78, 80, 82, 85, 88, 90, 92, 95])"
      ]
     },
     "execution_count": 44,
     "metadata": {},
     "output_type": "execute_result"
    }
   ],
   "source": [
    "unique_grades = np.unique(grades)\n",
    "unique_grades"
   ]
  }
 ],
 "metadata": {
  "kernelspec": {
   "display_name": "my_projects_env",
   "language": "python",
   "name": "python3"
  },
  "language_info": {
   "codemirror_mode": {
    "name": "ipython",
    "version": 3
   },
   "file_extension": ".py",
   "mimetype": "text/x-python",
   "name": "python",
   "nbconvert_exporter": "python",
   "pygments_lexer": "ipython3",
   "version": "3.13.5"
  }
 },
 "nbformat": 4,
 "nbformat_minor": 5
}
