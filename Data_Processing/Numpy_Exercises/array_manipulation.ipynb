{
 "cells": [
  {
   "cell_type": "code",
   "execution_count": 1,
   "id": "e0df353c",
   "metadata": {},
   "outputs": [],
   "source": [
    "import numpy as np"
   ]
  },
  {
   "cell_type": "code",
   "execution_count": 2,
   "id": "a5058bf1",
   "metadata": {},
   "outputs": [],
   "source": [
    "arr = np.array([[1, 2, 3], [4, 5, 6]])"
   ]
  },
  {
   "cell_type": "code",
   "execution_count": 3,
   "id": "94d82ef9",
   "metadata": {},
   "outputs": [
    {
     "data": {
      "text/plain": [
       "array([[1, 2, 3],\n",
       "       [4, 5, 6]])"
      ]
     },
     "execution_count": 3,
     "metadata": {},
     "output_type": "execute_result"
    }
   ],
   "source": [
    "arr.reshape(2, 3)"
   ]
  },
  {
   "cell_type": "code",
   "execution_count": 5,
   "id": "82bbcbe2",
   "metadata": {},
   "outputs": [
    {
     "data": {
      "text/plain": [
       "array([1, 2, 3, 4, 5, 6])"
      ]
     },
     "execution_count": 5,
     "metadata": {},
     "output_type": "execute_result"
    }
   ],
   "source": [
    "arr.reshape(-1)"
   ]
  },
  {
   "cell_type": "code",
   "execution_count": 16,
   "id": "aa9d4361",
   "metadata": {},
   "outputs": [
    {
     "data": {
      "text/plain": [
       "array([[1, 2],\n",
       "       [3, 4],\n",
       "       [5, 6]])"
      ]
     },
     "execution_count": 16,
     "metadata": {},
     "output_type": "execute_result"
    }
   ],
   "source": [
    "arr.reshape(3, 2)"
   ]
  },
  {
   "cell_type": "code",
   "execution_count": 26,
   "id": "7c60b43d",
   "metadata": {},
   "outputs": [
    {
     "data": {
      "text/plain": [
       "array([[10,  2],\n",
       "       [ 3,  4],\n",
       "       [ 5,  6]])"
      ]
     },
     "execution_count": 26,
     "metadata": {},
     "output_type": "execute_result"
    }
   ],
   "source": [
    "arr = np.array([[1, 2], [3, 4], [5, 6]])\n",
    "new_arr = arr.ravel()\n",
    "new_arr[0] *= 10\n",
    "arr"
   ]
  },
  {
   "cell_type": "code",
   "execution_count": 27,
   "id": "50a2fe51",
   "metadata": {},
   "outputs": [
    {
     "data": {
      "text/plain": [
       "array([[1, 2],\n",
       "       [3, 4],\n",
       "       [5, 6]])"
      ]
     },
     "execution_count": 27,
     "metadata": {},
     "output_type": "execute_result"
    }
   ],
   "source": [
    "arr  = np.array([[1, 2], [3, 4], [5, 6]])\n",
    "new_arr = arr.flatten()\n",
    "new_arr[0] *= 10\n",
    "arr"
   ]
  },
  {
   "cell_type": "code",
   "execution_count": 33,
   "id": "23b24067",
   "metadata": {},
   "outputs": [
    {
     "name": "stdout",
     "output_type": "stream",
     "text": [
      "[[10  2]\n",
      " [ 3  4]\n",
      " [ 5  6]]\n",
      "\n",
      "[[1 2]\n",
      " [3 4]\n",
      " [5 6]]\n"
     ]
    }
   ],
   "source": [
    "arr_1 = np.array([[1, 2], [3, 4], [5, 6]])\n",
    "new_arr_1 = arr_1.ravel()\n",
    "new_arr_1[0] *= 10\n",
    "\n",
    "arr_2 = np.array([[1, 2], [3, 4], [5, 6]])\n",
    "new_arr_2 = arr_2.flatten()\n",
    "new_arr_2[0] *= 10\n",
    "\n",
    "print(f'{arr_1}\\n\\n{arr_2}')"
   ]
  },
  {
   "cell_type": "markdown",
   "id": "f4ef26ec",
   "metadata": {},
   "source": [
    "## Practice Exercise: Analyzing Sales Data\n",
    "\n",
    "You are given two NumPy arrays `sales_2021` and `sales_2022` that contain the monthly sales data for a company over the past two years. Each array has shape `(3, 4)`, representing sales data for 3 products over 4 quarters."
   ]
  },
  {
   "cell_type": "code",
   "execution_count": 35,
   "id": "697d3b29",
   "metadata": {},
   "outputs": [],
   "source": [
    "sales_2021 = np.array([[100, 120, 140, 160],\n",
    "                       [200, 220, 240, 260],\n",
    "                       [300, 320, 340, 360]])\n",
    "\n",
    "sales_2022 = np.array([[110, 130, 150, 170],\n",
    "                       [210, 230, 250, 270],\n",
    "                       [310, 330, 350, 370]])"
   ]
  },
  {
   "cell_type": "markdown",
   "id": "f0b056de",
   "metadata": {},
   "source": [
    "Your task is to perform the following operations:\n",
    "\n",
    "1. Combine the sales data for both years into a single array using vertical stacking.\n",
    "2. Reshape the combined sales data into a 1D array.\n",
    "3. Split the combined sales data into separate arrays for each product using horizontal splitting.\n",
    "4. Create a new array that repeats the sales data for each year twice using tiling.\n",
    "5. Calculate the total sales for each year using flattening and summation."
   ]
  },
  {
   "cell_type": "code",
   "execution_count": 40,
   "id": "088dca4b",
   "metadata": {},
   "outputs": [
    {
     "data": {
      "text/plain": [
       "array([[100, 120, 140, 160],\n",
       "       [200, 220, 240, 260],\n",
       "       [300, 320, 340, 360],\n",
       "       [110, 130, 150, 170],\n",
       "       [210, 230, 250, 270],\n",
       "       [310, 330, 350, 370]])"
      ]
     },
     "execution_count": 40,
     "metadata": {},
     "output_type": "execute_result"
    }
   ],
   "source": [
    "combined_sales = np.vstack((sales_2021, sales_2022))\n",
    "combined_sales"
   ]
  },
  {
   "cell_type": "code",
   "execution_count": 42,
   "id": "634bad5a",
   "metadata": {},
   "outputs": [
    {
     "data": {
      "text/plain": [
       "array([100, 120, 140, 160, 200, 220, 240, 260, 300, 320, 340, 360, 110,\n",
       "       130, 150, 170, 210, 230, 250, 270, 310, 330, 350, 370])"
      ]
     },
     "execution_count": 42,
     "metadata": {},
     "output_type": "execute_result"
    }
   ],
   "source": [
    "flattened_sales = np.ravel(combined_sales)\n",
    "flattened_sales"
   ]
  },
  {
   "cell_type": "code",
   "execution_count": 55,
   "id": "13e706ec",
   "metadata": {},
   "outputs": [
    {
     "name": "stdout",
     "output_type": "stream",
     "text": [
      "Sales Data for Each Product:\n",
      "\n",
      "Product number 1:\n",
      "[[100 120 140 160]\n",
      " [200 220 240 260]]\n",
      "\n",
      "\n",
      "Product number 2:\n",
      "[[300 320 340 360]\n",
      " [110 130 150 170]]\n",
      "\n",
      "\n",
      "Product number 3:\n",
      "[[210 230 250 270]\n",
      " [310 330 350 370]]\n",
      "\n",
      "\n"
     ]
    }
   ],
   "source": [
    "seperated_arrs = np.vsplit(combined_sales, 3)\n",
    "print('Sales Data for Each Product:\\n')\n",
    "for i, product in enumerate(seperated_arrs, start=1):\n",
    "    print(f'Product number {i}:\\n{product}\\n\\n')"
   ]
  },
  {
   "cell_type": "code",
   "execution_count": 60,
   "id": "b9352af6",
   "metadata": {},
   "outputs": [
    {
     "data": {
      "text/plain": [
       "array([[100, 120, 140, 160],\n",
       "       [200, 220, 240, 260],\n",
       "       [300, 320, 340, 360],\n",
       "       [110, 130, 150, 170],\n",
       "       [210, 230, 250, 270],\n",
       "       [310, 330, 350, 370],\n",
       "       [100, 120, 140, 160],\n",
       "       [200, 220, 240, 260],\n",
       "       [300, 320, 340, 360],\n",
       "       [110, 130, 150, 170],\n",
       "       [210, 230, 250, 270],\n",
       "       [310, 330, 350, 370]])"
      ]
     },
     "execution_count": 60,
     "metadata": {},
     "output_type": "execute_result"
    }
   ],
   "source": [
    "tiled_sales = np.tile(combined_sales, (2, 1))\n",
    "tiled_sales"
   ]
  },
  {
   "cell_type": "code",
   "execution_count": 65,
   "id": "7d052ed9",
   "metadata": {},
   "outputs": [
    {
     "name": "stdout",
     "output_type": "stream",
     "text": [
      "Total Sales for Each Year:\n",
      "\n",
      "Year 2021: 2760\n",
      "Year 2022: 2880\n"
     ]
    }
   ],
   "source": [
    "total_sales_2021 = np.sum(np.ravel(sales_2021))\n",
    "total_sales_2022 = np.sum(np.ravel(sales_2022))\n",
    "\n",
    "print('Total Sales for Each Year:\\n')\n",
    "print(f'Year 2021: {total_sales_2021}\\nYear 2022: {total_sales_2022}')"
   ]
  }
 ],
 "metadata": {
  "kernelspec": {
   "display_name": "my_projects_env",
   "language": "python",
   "name": "python3"
  },
  "language_info": {
   "codemirror_mode": {
    "name": "ipython",
    "version": 3
   },
   "file_extension": ".py",
   "mimetype": "text/x-python",
   "name": "python",
   "nbconvert_exporter": "python",
   "pygments_lexer": "ipython3",
   "version": "3.13.5"
  }
 },
 "nbformat": 4,
 "nbformat_minor": 5
}
