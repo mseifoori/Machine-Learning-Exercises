{
 "cells": [
  {
   "cell_type": "code",
   "execution_count": 1,
   "id": "a4beb529",
   "metadata": {},
   "outputs": [],
   "source": [
    "import numpy as np"
   ]
  },
  {
   "cell_type": "code",
   "execution_count": 2,
   "id": "b1150be5",
   "metadata": {},
   "outputs": [
    {
     "data": {
      "text/plain": [
       "array([ 1.        ,  7.33333333, 13.66666667, 20.        ])"
      ]
     },
     "execution_count": 2,
     "metadata": {},
     "output_type": "execute_result"
    }
   ],
   "source": [
    "np.linspace(1, 20, 4)\n",
    "# Generates 4 numbers between 1 and 20"
   ]
  },
  {
   "cell_type": "code",
   "execution_count": 3,
   "id": "7331c24f",
   "metadata": {},
   "outputs": [
    {
     "data": {
      "text/plain": [
       "array([[0., 0., 0., 0.],\n",
       "       [0., 0., 0., 0.],\n",
       "       [0., 0., 0., 0.]])"
      ]
     },
     "execution_count": 3,
     "metadata": {},
     "output_type": "execute_result"
    }
   ],
   "source": [
    "np.zeros((3, 4))\n",
    "# np.zeros and np.ones get a TUPLE."
   ]
  },
  {
   "cell_type": "code",
   "execution_count": 4,
   "id": "16e82826",
   "metadata": {},
   "outputs": [
    {
     "data": {
      "text/plain": [
       "array([[ 1,  0,  0],\n",
       "       [ 0,  3,  0],\n",
       "       [ 0,  0, 10]])"
      ]
     },
     "execution_count": 4,
     "metadata": {},
     "output_type": "execute_result"
    }
   ],
   "source": [
    "np.diag([1, 3, 10])\n",
    "# The `np.diag()` function is used to create a 2-dimensional diagonal matrix. A diagonal matrix is a matrix with non-zero elements only on the main diagonal. \n",
    "# It takes a 1-dimensional array or a list as input, representing the diagonal elements."
   ]
  },
  {
   "cell_type": "code",
   "execution_count": 5,
   "id": "0dd206f5",
   "metadata": {},
   "outputs": [
    {
     "data": {
      "text/plain": [
       "array([[[ 1,  2],\n",
       "        [ 3,  4]],\n",
       "\n",
       "       [[ 5,  6],\n",
       "        [ 7,  8]],\n",
       "\n",
       "       [[ 9, 10],\n",
       "        [11, 12]]])"
      ]
     },
     "execution_count": 5,
     "metadata": {},
     "output_type": "execute_result"
    }
   ],
   "source": [
    "arr = np.array([\n",
    "    [[1, 2], [3, 4]],\n",
    "    [[5, 6], [7, 8]],\n",
    "    [[9, 10], [11, 12]]\n",
    "])\n",
    "arr"
   ]
  },
  {
   "cell_type": "markdown",
   "id": "8adba6e7",
   "metadata": {},
   "source": [
    "## np.random:"
   ]
  },
  {
   "cell_type": "code",
   "execution_count": 6,
   "id": "b0201b2a",
   "metadata": {},
   "outputs": [
    {
     "data": {
      "text/plain": [
       "array([[0.62097604, 0.85695333, 0.04583894],\n",
       "       [0.70499283, 0.16378797, 0.0772364 ]])"
      ]
     },
     "execution_count": 6,
     "metadata": {},
     "output_type": "execute_result"
    }
   ],
   "source": [
    "np.random.rand(2, 3)\n",
    "# Generates an array with random numbers.\n",
    "# Args: axis"
   ]
  },
  {
   "cell_type": "code",
   "execution_count": 7,
   "id": "f207952c",
   "metadata": {},
   "outputs": [],
   "source": [
    "arr_1 = np.random.randint(3, 10, 3)\n",
    "arr_2 = np.random.randint(3, 10, size=(4, 3))\n",
    "# Frist and second args: range\n",
    "# Third arg: axis"
   ]
  },
  {
   "cell_type": "code",
   "execution_count": 8,
   "id": "b92c5e4b",
   "metadata": {},
   "outputs": [
    {
     "data": {
      "text/plain": [
       "array([5, 6, 7])"
      ]
     },
     "execution_count": 8,
     "metadata": {},
     "output_type": "execute_result"
    }
   ],
   "source": [
    "arr_1"
   ]
  },
  {
   "cell_type": "code",
   "execution_count": 9,
   "id": "be11c98d",
   "metadata": {},
   "outputs": [
    {
     "data": {
      "text/plain": [
       "array([[6, 8, 7],\n",
       "       [3, 3, 7],\n",
       "       [5, 7, 5],\n",
       "       [4, 6, 8]])"
      ]
     },
     "execution_count": 9,
     "metadata": {},
     "output_type": "execute_result"
    }
   ],
   "source": [
    "arr_2"
   ]
  },
  {
   "cell_type": "code",
   "execution_count": 10,
   "id": "2cbb616b",
   "metadata": {},
   "outputs": [
    {
     "data": {
      "text/plain": [
       "array([1, 5])"
      ]
     },
     "execution_count": 10,
     "metadata": {},
     "output_type": "execute_result"
    }
   ],
   "source": [
    "# Boolean Indexing\n",
    "# arr[Boolean Condition -> a condition that return a boolean array]\n",
    "arr = np.array([1, 2, 3, 4, 5])\n",
    "mask = np.array([True, False, False, False, True])\n",
    "result = arr[mask]\n",
    "result"
   ]
  },
  {
   "cell_type": "code",
   "execution_count": 11,
   "id": "075c9552",
   "metadata": {},
   "outputs": [
    {
     "data": {
      "text/plain": [
       "array([4140, 9038, 1932,  420])"
      ]
     },
     "execution_count": 11,
     "metadata": {},
     "output_type": "execute_result"
    }
   ],
   "source": [
    "arr_1 = np.random.randint(1, 100000, 100)\n",
    "arr_1[(arr_1 % 2 == 0) & (arr_1 < 10000)]"
   ]
  },
  {
   "cell_type": "code",
   "execution_count": 12,
   "id": "b8d025d5",
   "metadata": {},
   "outputs": [
    {
     "data": {
      "text/plain": [
       "array([30, 10, 50, 70])"
      ]
     },
     "execution_count": 12,
     "metadata": {},
     "output_type": "execute_result"
    }
   ],
   "source": [
    "# Fancy Indexing\n",
    "# arr[[Indices]]\n",
    "arr = np.array([10, 20, 30, 40, 50, 60, 70, 80, 90])\n",
    "arr[[2, 0, 4, 6]]"
   ]
  },
  {
   "cell_type": "code",
   "execution_count": 13,
   "id": "0a8cc99d",
   "metadata": {},
   "outputs": [
    {
     "data": {
      "text/plain": [
       "array([2, 6, 7])"
      ]
     },
     "execution_count": 13,
     "metadata": {},
     "output_type": "execute_result"
    }
   ],
   "source": [
    "arr_2d = np.array([[1, 2, 3], [4, 5, 6], [7, 8, 9]])\n",
    "row_indices = np.array([0, 1, 2])\n",
    "col_indices = np.array([1, 2, 0])\n",
    "result = arr_2d[row_indices, col_indices]\n",
    "result"
   ]
  },
  {
   "cell_type": "code",
   "execution_count": 14,
   "id": "f502cb65",
   "metadata": {},
   "outputs": [
    {
     "name": "stdout",
     "output_type": "stream",
     "text": [
      "[1, 2, 3, 4, 5] [1 2 0 4 5]\n"
     ]
    }
   ],
   "source": [
    "# View vs. Copy\n",
    "list_1 = [1, 2, 3, 4, 5]\n",
    "arr_1 = np.array([1, 2, 3, 4, 5])\n",
    "\n",
    "temp_list = list_1[1:4] # copy\n",
    "temp_arr = arr_1[1:4] # view\n",
    "\n",
    "temp_list[1] = 0 # Modifies the copy version of the list.\n",
    "temp_arr[1] = 0 # Modifies the main array because the slicing and temp_arr is just a view.\n",
    "\n",
    "print(list_1, arr_1)\n",
    "\n",
    "# Note: If you really need to avoid modifying the original array, use the .copy() method before making any changes."
   ]
  },
  {
   "cell_type": "code",
   "execution_count": 15,
   "id": "3c57eb3c",
   "metadata": {},
   "outputs": [
    {
     "name": "stdout",
     "output_type": "stream",
     "text": [
      "False True\n"
     ]
    }
   ],
   "source": [
    "print(np.shares_memory(temp_list, list_1), np.shares_memory(temp_arr, arr_1))"
   ]
  },
  {
   "cell_type": "markdown",
   "id": "f9075df8",
   "metadata": {},
   "source": [
    "# NumPy Data Types\n",
    "\n",
    "<img src=\"./images/np-dtypes.webp\" width=\"800\">"
   ]
  },
  {
   "cell_type": "markdown",
   "id": "54fe344a",
   "metadata": {},
   "source": [
    "Below is a list of all data types in NumPy and the characters used to represent them.\n",
    "\n",
    "- `i` - `integer`\n",
    "- `b` - `boolean`\n",
    "- `u` - `unsigned integer`\n",
    "- `f` - `float`\n",
    "- `c` - `complex float`\n",
    "- `m` - `timedelta`\n",
    "- `M` - `datetime`\n",
    "- `O` - `object`\n",
    "- `S` - `string`\n",
    "- `U` - `unicode string`\n",
    "- `V` - fixed chunk of memory for other type (`void`)\n",
    "\n",
    "Here, `'i4'` represents a 32-bit integer data type."
   ]
  },
  {
   "cell_type": "markdown",
   "id": "b3538e82",
   "metadata": {},
   "source": [
    "## Integer Types\n",
    "\n",
    "NumPy offers several integer data types with different sizes and ranges. The most commonly used integer types are:\n",
    "\n",
    "- `int8`: 8-bit signed integer (-128 to 127)\n",
    "- `int16`: 16-bit signed integer (-32,768 to 32,767)\n",
    "- `int32`: 32-bit signed integer (-2,147,483,648 to 2,147,483,647)\n",
    "- `int64`: 64-bit signed integer (-9,223,372,036,854,775,808 to 9,223,372,036,854,775,807)\n"
   ]
  },
  {
   "cell_type": "markdown",
   "id": "e50a9dbb",
   "metadata": {},
   "source": [
    "NumPy also provides unsigned integer types, which have the same sizes as their signed counterparts but can only represent non-negative values:\n",
    "\n",
    "- `uint8`: 8-bit unsigned integer (0 to 255)\n",
    "- `uint16`: 16-bit unsigned integer (0 to 65,535)\n",
    "- `uint32`: 32-bit unsigned integer (0 to 4,294,967,295)\n",
    "- `uint64`: 64-bit unsigned integer (0 to 18,446,744,073,709,551,615)"
   ]
  },
  {
   "cell_type": "markdown",
   "id": "9022a782",
   "metadata": {},
   "source": [
    "# Floating-Point Types"
   ]
  },
  {
   "cell_type": "markdown",
   "id": "fa69a190",
   "metadata": {},
   "source": [
    "Floating-point types are used to represent real numbers with decimal points. NumPy provides two main floating-point types:\n",
    "\n",
    "- `float32`: 32-bit single-precision floating-point number\n",
    "- `float64`: 64-bit double-precision floating-point number (default)\n"
   ]
  },
  {
   "cell_type": "markdown",
   "id": "bcdff761",
   "metadata": {},
   "source": [
    "The `float32` type has a precision of about 7 decimal digits, while `float64` has a precision of about 15 decimal digits. The choice between `float32` and `float64` depends on the required precision and the memory constraints of your application.\n"
   ]
  },
  {
   "cell_type": "code",
   "execution_count": 16,
   "id": "64fc9e7f",
   "metadata": {},
   "outputs": [],
   "source": [
    "# Note: Boolean and String data types in numpy are represented as bool_ and str_"
   ]
  },
  {
   "cell_type": "markdown",
   "id": "f6b597a7",
   "metadata": {},
   "source": [
    "## For string data type in NumPy\n",
    "\n",
    "The main differences between 'S' and 'U' data types are:\n",
    "- 'S' represents byte strings, while 'U' represents Unicode strings.\n",
    "- 'S' is specified in terms of bytes, while 'U' is specified in terms of characters.\n",
    "- 'S' can contain arbitrary binary data, while 'U' is designed to store text data.\n",
    "- 'S' is more memory-efficient, while 'U' can handle a wider range of characters.\n",
    "\n",
    "When choosing between 'S' and 'U', consider the following:\n",
    "- If you are working with ASCII text or raw binary data, use the 'S' data type.\n",
    "- If you need to handle non-ASCII characters or multilingual text, use the 'U' data type.\n",
    "- Be aware of the memory implications, as Unicode strings require more memory than byte strings.\n"
   ]
  },
  {
   "cell_type": "code",
   "execution_count": 17,
   "id": "3783f200",
   "metadata": {},
   "outputs": [
    {
     "data": {
      "text/plain": [
       "array([b'apple', b'banana', b'cherry'], dtype='|S10')"
      ]
     },
     "execution_count": 17,
     "metadata": {},
     "output_type": "execute_result"
    }
   ],
   "source": [
    "arr = np.array(['apple', 'banana', 'cherry'], dtype='S10')\n",
    "arr"
   ]
  },
  {
   "cell_type": "code",
   "execution_count": 18,
   "id": "67f3e70a",
   "metadata": {},
   "outputs": [
    {
     "data": {
      "text/plain": [
       "array([1, 'apple', list([3, 4, 5]), {'key': 'value'}], dtype=object)"
      ]
     },
     "execution_count": 18,
     "metadata": {},
     "output_type": "execute_result"
    }
   ],
   "source": [
    "# Object data type, is a NumPy data type that allow arrays to hold objects of arbitrary Python types.\n",
    "# This data type is very flexible.\n",
    "obj_array = np.array([1, \"apple\", [3, 4, 5], {\"key\": \"value\"}], dtype=np.object_)\n",
    "obj_array"
   ]
  },
  {
   "cell_type": "code",
   "execution_count": 19,
   "id": "b46b202f",
   "metadata": {},
   "outputs": [
    {
     "data": {
      "text/plain": [
       "array([1, 2, 3])"
      ]
     },
     "execution_count": 19,
     "metadata": {},
     "output_type": "execute_result"
    }
   ],
   "source": [
    "# To cast an array to a different data type using the `astype()` method, you can pass the desired data type as an argument:\n",
    "arr_float = np.array([1.5, 2.5, 3.5])\n",
    "arr_float.astype(int)"
   ]
  },
  {
   "cell_type": "code",
   "execution_count": 20,
   "id": "9ef486a5",
   "metadata": {},
   "outputs": [
    {
     "data": {
      "text/plain": [
       "array(['1.5', '2.5', '3.5'], dtype='<U32')"
      ]
     },
     "execution_count": 20,
     "metadata": {},
     "output_type": "execute_result"
    }
   ],
   "source": [
    "arr_float.astype(str)"
   ]
  },
  {
   "cell_type": "code",
   "execution_count": 21,
   "id": "25e97123",
   "metadata": {},
   "outputs": [
    {
     "data": {
      "text/plain": [
       "array([1, 2, 3])"
      ]
     },
     "execution_count": 21,
     "metadata": {},
     "output_type": "execute_result"
    }
   ],
   "source": [
    "np.array([1.5, 2.5, 3.5], dtype=int)"
   ]
  },
  {
   "cell_type": "markdown",
   "id": "2f16c6cf",
   "metadata": {},
   "source": [
    "# Memory Usage of Different Data Types\n",
    "\n",
    "Here are the sizes of some common NumPy data types:\n",
    "\n",
    "- `bool`: 1 byte\n",
    "- `int8`, `uint8`: 1 byte\n",
    "- `int16`, `uint16`: 2 bytes\n",
    "- `int32`, `uint32`, `float32`: 4 bytes\n",
    "- `int64`, `uint64`, `float64` (default): 8 bytes\n",
    "- `complex64`: 8 bytes (4 bytes for real part, 4 bytes for imaginary part)\n",
    "- `complex128`: 16 bytes (8 bytes for real part, 8 bytes for imaginary part)"
   ]
  },
  {
   "cell_type": "code",
   "execution_count": 22,
   "id": "f07e60e7",
   "metadata": {},
   "outputs": [
    {
     "data": {
      "text/plain": [
       "8000000"
      ]
     },
     "execution_count": 22,
     "metadata": {},
     "output_type": "execute_result"
    }
   ],
   "source": [
    "arr = np.zeros((1000, 1000), dtype=np.float64)  # 8000000 (8 MB)\n",
    "arr.nbytes"
   ]
  },
  {
   "cell_type": "markdown",
   "id": "b994872b",
   "metadata": {},
   "source": [
    "# Broadcasting rules\n",
    "\n",
    "In NumPy, broadcasting between two arrays is possible if their shapes are compatible. The rule is:\n",
    "\n",
    "- When comparing dimensions, we start from the trailing (rightmost) dimensions and move left.\n",
    "- For each pair of dimensions, they are compatible if either:\n",
    "\n",
    "    1- The dimensions are equal,\n",
    "\n",
    "    or\n",
    "\n",
    "    2- At least one of them is 1.\n",
    "\n",
    "If all compared dimensions follow this rule, broadcasting can occur."
   ]
  },
  {
   "cell_type": "code",
   "execution_count": 23,
   "id": "30e83284",
   "metadata": {},
   "outputs": [
    {
     "data": {
      "text/plain": [
       "array([[111, 212, 313],\n",
       "       [124, 225, 326]])"
      ]
     },
     "execution_count": 23,
     "metadata": {},
     "output_type": "execute_result"
    }
   ],
   "source": [
    "# For example:\n",
    "arr1 = np.array([[1, 2, 3],\n",
    "                 [4, 5, 6]])\n",
    "\n",
    "arr2 = np.array([[10],\n",
    "                 [20]])\n",
    "\n",
    "arr3 = np.array([100, 200, 300])\n",
    "\n",
    "# (2, 3) (1, 1) (1, 3) -> Shapes are compatible.\n",
    "\n",
    "arr1 + arr2 + arr3 # Expecting output"
   ]
  },
  {
   "cell_type": "code",
   "execution_count": 24,
   "id": "319287da",
   "metadata": {},
   "outputs": [
    {
     "ename": "ValueError",
     "evalue": "operands could not be broadcast together with shapes (2,3) (4,3) ",
     "output_type": "error",
     "traceback": [
      "\u001b[31m---------------------------------------------------------------------------\u001b[39m",
      "\u001b[31mValueError\u001b[39m                                Traceback (most recent call last)",
      "\u001b[36mCell\u001b[39m\u001b[36m \u001b[39m\u001b[32mIn[24]\u001b[39m\u001b[32m, line 10\u001b[39m\n\u001b[32m      5\u001b[39m arr2 = np.array([[\u001b[32m10\u001b[39m, \u001b[32m20\u001b[39m],\n\u001b[32m      6\u001b[39m                  [\u001b[32m30\u001b[39m, \u001b[32m40\u001b[39m]])\n\u001b[32m      8\u001b[39m \u001b[38;5;66;03m# (2, 3) (2, 2) -> Shapes are NOT compatible.\u001b[39;00m\n\u001b[32m---> \u001b[39m\u001b[32m10\u001b[39m \u001b[43marr1\u001b[49m\u001b[43m \u001b[49m\u001b[43m*\u001b[49m\u001b[43m \u001b[49m\u001b[43marr_2\u001b[49m \u001b[38;5;66;03m# Expecting Error\u001b[39;00m\n",
      "\u001b[31mValueError\u001b[39m: operands could not be broadcast together with shapes (2,3) (4,3) "
     ]
    }
   ],
   "source": [
    "# Example:\n",
    "arr1 = np.array([[1, 2, 3],\n",
    "                 [4, 5, 6]])\n",
    "\n",
    "arr2 = np.array([[10, 20],\n",
    "                 [30, 40]])\n",
    "\n",
    "# (2, 3) (2, 2) -> Shapes are NOT compatible.\n",
    "\n",
    "arr1 * arr_2 # Expecting Error"
   ]
  },
  {
   "cell_type": "markdown",
   "id": "8d18bff1",
   "metadata": {},
   "source": [
    "Example:\n",
    "(2, 3, 3) (1, 3) -> 3 and 3 matches, 1 and 3 matches, 1 and 2 matches -> Shapes are compatible.\n",
    "\n",
    "- Note: If one of the arrays has fewer dimensions, we treat the missing dimensions as 1 for the purpose of broadcasting.\n",
    "\n",
    "For exmaple here, 2 matches with 1 (originally no dimension.)"
   ]
  },
  {
   "cell_type": "markdown",
   "id": "227fa21b",
   "metadata": {},
   "source": [
    "# Vectorization\n",
    "\n",
    "### What is Vectorization?\n",
    "\n",
    "Vectorization in Python (especially with NumPy) means performing operations on arrays or datasets all at once, instead of using for loops.\n",
    "Instead of calculating element by element, the entire array is processed in one go.\n",
    "\n",
    "- Note: Using Python, many mathematical operations on numbers require a for loop to be applied to each element of a list.\n",
    "However, when using NumPy functions on NumPy arrays, a for loop is not needed. You can call the function on the entire array, and NumPy will automatically apply it to each element."
   ]
  },
  {
   "cell_type": "code",
   "execution_count": null,
   "id": "241c50e4",
   "metadata": {},
   "outputs": [
    {
     "name": "stdout",
     "output_type": "stream",
     "text": [
      "loop_time = 0.0001035 seconds\n",
      "vectorized_time = 0.0000691 seconds\n"
     ]
    }
   ],
   "source": [
    "# Example:\n",
    "\n",
    "import time\n",
    "\n",
    "\n",
    "\n",
    "a = [1, 2, 3, 4, 5]\n",
    "b = [10, 20, 30, 40, 50]\n",
    "c = []\n",
    "\n",
    "start_time = time.time()\n",
    "for i in range(len(a)):\n",
    "    c.append(a[i] + b[i])\n",
    "end_time = time.time()\n",
    "\n",
    "loop_time = end_time - start_time\n",
    "\n",
    "a = np.array([1, 2, 3, 4, 5])\n",
    "b = np.array([10, 20, 30, 40, 50])\n",
    "\n",
    "start_time = time.time()\n",
    "c = a + b\n",
    "end_time = time.time()\n",
    "\n",
    "vectorized_time = end_time - start_time\n",
    "\n",
    "print(f'loop_time = {loop_time:.7f} seconds\\nvectorized_time = {vectorized_time:.7f} seconds')\n"
   ]
  },
  {
   "cell_type": "code",
   "execution_count": 30,
   "id": "3e024875",
   "metadata": {},
   "outputs": [
    {
     "name": "stdout",
     "output_type": "stream",
     "text": [
      "[[10  2]\n",
      " [ 3  4]\n",
      " [ 5  6]]\n",
      "\n",
      "[[1 2]\n",
      " [3 4]\n",
      " [5 6]]\n"
     ]
    }
   ],
   "source": [
    "# Use .reshape(tuple of the new shape or the dimention of the new array) to change the dimentions of the array.\n",
    "# Use .ravel() or .flatten() to change an array to a 1D array.\n",
    "# Note: .ravel() returns a view of the array, while .flatten() returns a copy of the array.\n",
    "# Example:\n",
    "arr_1 = np.array([[1, 2], [3, 4], [5, 6]])\n",
    "new_arr_1 = arr_1.ravel() # Returns a view of arr_1\n",
    "new_arr_1[0] *= 10 # Changes will also affect arr_1\n",
    "\n",
    "arr_2 = np.array([[1, 2], [3, 4], [5, 6]])\n",
    "new_arr_2 = arr_2.flatten() # Returns a copy of arr_2\n",
    "new_arr_2[0] *= 10 # Changes will NOT affect arr_2\n",
    "\n",
    "print(f'{arr_1}\\n\\n{arr_2}')"
   ]
  },
  {
   "cell_type": "code",
   "execution_count": 31,
   "id": "38911473",
   "metadata": {},
   "outputs": [
    {
     "name": "stdout",
     "output_type": "stream",
     "text": [
      "[1 2 3 4 5 6]\n",
      "\n",
      "[1 3 5 2 4 6]\n"
     ]
    }
   ],
   "source": [
    "# .ravel() and .flatten() can be called both with \"C\" order or \"F\" order.\n",
    "arr = np.array([[1, 2], [3, 4], [5, 6]])\n",
    "c_arr = arr.ravel('C')\n",
    "f_arr = arr.ravel('F')\n",
    "print(f'{c_arr}\\n\\n{f_arr}')"
   ]
  },
  {
   "cell_type": "code",
   "execution_count": 41,
   "id": "645b9c7c",
   "metadata": {},
   "outputs": [],
   "source": [
    "# Note: arr.ravel() does the job inplace, while np.ravel(arr) should be assigned to a varb and does NOT change the main arr.\n",
    "# So if you want to flatten the array, use arr.ravel() or arr.flatten().\n",
    "# And if you want to keep the main array and assign the flattened array to another varb, use flattened_arr = np.ravel(arr) or flattened_arr =  np.flatten(arr)"
   ]
  },
  {
   "cell_type": "code",
   "execution_count": 32,
   "id": "6ea5ff8b",
   "metadata": {},
   "outputs": [
    {
     "data": {
      "text/plain": [
       "array([[1, 2],\n",
       "       [3, 4],\n",
       "       [5, 6],\n",
       "       [7, 8]])"
      ]
     },
     "execution_count": 32,
     "metadata": {},
     "output_type": "execute_result"
    }
   ],
   "source": [
    "# The `np.vstack()` function stacks arrays vertically, meaning it combines them along the first axis (rows). The arrays to be stacked must have the same number of columns.\n",
    "arr1 = np.array([[1, 2], [3, 4]])\n",
    "arr2 = np.array([[5, 6], [7, 8]])\n",
    "stacked_arr = np.vstack((arr1, arr2))\n",
    "stacked_arr"
   ]
  },
  {
   "cell_type": "code",
   "execution_count": 33,
   "id": "73cf5876",
   "metadata": {},
   "outputs": [
    {
     "data": {
      "text/plain": [
       "array([[1, 2, 5, 6],\n",
       "       [3, 4, 7, 8]])"
      ]
     },
     "execution_count": 33,
     "metadata": {},
     "output_type": "execute_result"
    }
   ],
   "source": [
    "# The `np.hstack()` function stacks arrays horizontally, meaning it combines them along the second axis (columns). The arrays to be stacked must have the same number of rows.\n",
    "arr1 = np.array([[1, 2], [3, 4]])\n",
    "arr2 = np.array([[5, 6], [7, 8]])\n",
    "stacked_arr = np.hstack((arr1, arr2))\n",
    "stacked_arr"
   ]
  },
  {
   "cell_type": "code",
   "execution_count": 34,
   "id": "df6c0645",
   "metadata": {},
   "outputs": [
    {
     "data": {
      "text/plain": [
       "array([[1, 2],\n",
       "       [3, 4],\n",
       "       [5, 6],\n",
       "       [7, 8]])"
      ]
     },
     "execution_count": 34,
     "metadata": {},
     "output_type": "execute_result"
    }
   ],
   "source": [
    "#The `np.concatenate()` function takes a sequence of arrays as input and concatenates them along a specified axis. By default, the concatenation is performed along the first axis (axis 0).\n",
    "arr1 = np.array([[1, 2], [3, 4]])\n",
    "arr2 = np.array([[5, 6], [7, 8]])\n",
    "np.concatenate((arr1, arr2))"
   ]
  },
  {
   "cell_type": "code",
   "execution_count": 37,
   "id": "9cd99b41",
   "metadata": {},
   "outputs": [
    {
     "data": {
      "text/plain": [
       "array([[1, 2, 5, 6],\n",
       "       [3, 4, 7, 8]])"
      ]
     },
     "execution_count": 37,
     "metadata": {},
     "output_type": "execute_result"
    }
   ],
   "source": [
    "arr1 = np.array([[1, 2], [3, 4]])\n",
    "arr2 = np.array([[5, 6], [7, 8]])\n",
    "np.concatenate((arr1, arr2), axis=1)"
   ]
  },
  {
   "cell_type": "code",
   "execution_count": 39,
   "id": "4a055de1",
   "metadata": {},
   "outputs": [
    {
     "data": {
      "text/plain": [
       "[array([[1, 2, 3, 4]]), array([[5, 6, 7, 8]]), array([[ 9, 10, 11, 12]])]"
      ]
     },
     "execution_count": 39,
     "metadata": {},
     "output_type": "execute_result"
    }
   ],
   "source": [
    "# .vsplit(arr, rows)\n",
    "# .hsplit(arr, rows)\n",
    "arr = np.array([[1, 2, 3, 4],\n",
    "                [5, 6, 7, 8],\n",
    "                [9, 10, 11, 12]])\n",
    "\n",
    "# Splitting into 3 equal-sized sub-arrays\n",
    "split_arr = np.vsplit(arr, 3)\n",
    "split_arr"
   ]
  },
  {
   "cell_type": "code",
   "execution_count": 42,
   "id": "4c6c7663",
   "metadata": {},
   "outputs": [
    {
     "data": {
      "text/plain": [
       "array([[1, 2, 1, 2, 1, 2],\n",
       "       [3, 4, 3, 4, 3, 4],\n",
       "       [1, 2, 1, 2, 1, 2],\n",
       "       [3, 4, 3, 4, 3, 4]])"
      ]
     },
     "execution_count": 42,
     "metadata": {},
     "output_type": "execute_result"
    }
   ],
   "source": [
    "# The `np.tile()` function creates a new array by repeating an input array a specified number of times along each axis. It takes two arguments: the input array and a tuple or array specifying the number of repetitions along each axis.\n",
    "arr = np.array([[1, 2], [3, 4]])\n",
    "tiled_arr = np.tile(arr, (2, 3))\n",
    "tiled_arr"
   ]
  }
 ],
 "metadata": {
  "kernelspec": {
   "display_name": "my_projects_env",
   "language": "python",
   "name": "python3"
  },
  "language_info": {
   "codemirror_mode": {
    "name": "ipython",
    "version": 3
   },
   "file_extension": ".py",
   "mimetype": "text/x-python",
   "name": "python",
   "nbconvert_exporter": "python",
   "pygments_lexer": "ipython3",
   "version": "3.13.5"
  }
 },
 "nbformat": 4,
 "nbformat_minor": 5
}
