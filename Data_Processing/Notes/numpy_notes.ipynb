{
 "cells": [
  {
   "cell_type": "code",
   "execution_count": 2,
   "id": "a4beb529",
   "metadata": {},
   "outputs": [],
   "source": [
    "import numpy as np"
   ]
  },
  {
   "cell_type": "code",
   "execution_count": 2,
   "id": "b1150be5",
   "metadata": {},
   "outputs": [
    {
     "data": {
      "text/plain": [
       "array([ 1.        ,  7.33333333, 13.66666667, 20.        ])"
      ]
     },
     "execution_count": 2,
     "metadata": {},
     "output_type": "execute_result"
    }
   ],
   "source": [
    "np.linspace(1, 20, 4)\n",
    "# Generates 4 numbers between 1 and 20"
   ]
  },
  {
   "cell_type": "code",
   "execution_count": 6,
   "id": "7331c24f",
   "metadata": {},
   "outputs": [
    {
     "data": {
      "text/plain": [
       "array([[0., 0., 0., 0.],\n",
       "       [0., 0., 0., 0.],\n",
       "       [0., 0., 0., 0.]])"
      ]
     },
     "execution_count": 6,
     "metadata": {},
     "output_type": "execute_result"
    }
   ],
   "source": [
    "np.zeros((3, 4))\n",
    "# np.zeros and np.ones get a TUPLE."
   ]
  },
  {
   "cell_type": "code",
   "execution_count": 10,
   "id": "16e82826",
   "metadata": {},
   "outputs": [
    {
     "data": {
      "text/plain": [
       "array([[ 1,  0,  0],\n",
       "       [ 0,  3,  0],\n",
       "       [ 0,  0, 10]])"
      ]
     },
     "execution_count": 10,
     "metadata": {},
     "output_type": "execute_result"
    }
   ],
   "source": [
    "np.diag([1, 3, 10])\n",
    "# The `np.diag()` function is used to create a 2-dimensional diagonal matrix. A diagonal matrix is a matrix with non-zero elements only on the main diagonal. \n",
    "# It takes a 1-dimensional array or a list as input, representing the diagonal elements."
   ]
  },
  {
   "cell_type": "code",
   "execution_count": 15,
   "id": "0dd206f5",
   "metadata": {},
   "outputs": [
    {
     "data": {
      "text/plain": [
       "array([[[ 1,  2],\n",
       "        [ 3,  4]],\n",
       "\n",
       "       [[ 5,  6],\n",
       "        [ 7,  8]],\n",
       "\n",
       "       [[ 9, 10],\n",
       "        [11, 12]]])"
      ]
     },
     "execution_count": 15,
     "metadata": {},
     "output_type": "execute_result"
    }
   ],
   "source": [
    "arr = np.array([\n",
    "    [[1, 2], [3, 4]],\n",
    "    [[5, 6], [7, 8]],\n",
    "    [[9, 10], [11, 12]]\n",
    "])\n",
    "arr"
   ]
  },
  {
   "cell_type": "markdown",
   "id": "ad882390",
   "metadata": {},
   "source": [
    "# Common NumPy Data Types:\n",
    "\n",
    "NumPy provides a wide range of data types to suit different numerical requirements. Here are some commonly used NumPy data types:\n",
    "\n",
    "- **Integer Types**:\n",
    "  - `np.int8`: 8-bit signed integer\n",
    "  - `np.int16`: 16-bit signed integer\n",
    "  - `np.int32`: 32-bit signed integer (default integer type)\n",
    "  - `np.int64`: 64-bit signed integer\n",
    "  - `np.uint8`: 8-bit unsigned integer\n",
    "  - `np.uint16`: 16-bit unsigned integer\n",
    "  - `np.uint32`: 32-bit unsigned integer\n",
    "  - `np.uint64`: 64-bit unsigned integer\n",
    "\n",
    "- **Floating-Point Types**:\n",
    "  - `np.float16`: 16-bit half-precision floating-point\n",
    "  - `np.float32`: 32-bit single-precision floating-point\n",
    "  - `np.float64`: 64-bit double-precision floating-point (default float type)\n",
    "\n",
    "- **Complex Types**:\n",
    "  - `np.complex64`: Complex number represented by two 32-bit floats\n",
    "  - `np.complex128`: Complex number represented by two 64-bit floats\n",
    "\n",
    "- **Boolean Type**:\n",
    "  - `np.bool`: Boolean (True or False)\n",
    "\n",
    "- **String Type**:\n",
    "  - `np.str`: String (fixed-length)\n",
    "\n",
    "- **Object Type**:\n",
    "  - `np.object`: Python object"
   ]
  },
  {
   "cell_type": "markdown",
   "id": "8adba6e7",
   "metadata": {},
   "source": [
    "## np.random:"
   ]
  },
  {
   "cell_type": "code",
   "execution_count": null,
   "id": "b0201b2a",
   "metadata": {},
   "outputs": [
    {
     "data": {
      "text/plain": [
       "array([[0.35009109, 0.78049909, 0.28689354],\n",
       "       [0.46123707, 0.12931998, 0.96513266]])"
      ]
     },
     "execution_count": 21,
     "metadata": {},
     "output_type": "execute_result"
    }
   ],
   "source": [
    "np.random.rand(2, 3)\n",
    "# Generates an array with random numbers.\n",
    "# Args: axis"
   ]
  },
  {
   "cell_type": "code",
   "execution_count": 35,
   "id": "f207952c",
   "metadata": {},
   "outputs": [],
   "source": [
    "arr_1 = np.random.randint(3, 10, 3)\n",
    "arr_2 = np.random.randint(3, 10, size=(4, 3))\n",
    "# Frist and second args: range\n",
    "# Third arg: axis"
   ]
  },
  {
   "cell_type": "code",
   "execution_count": 36,
   "id": "b92c5e4b",
   "metadata": {},
   "outputs": [
    {
     "data": {
      "text/plain": [
       "array([5, 3, 4])"
      ]
     },
     "execution_count": 36,
     "metadata": {},
     "output_type": "execute_result"
    }
   ],
   "source": [
    "arr_1"
   ]
  },
  {
   "cell_type": "code",
   "execution_count": 37,
   "id": "be11c98d",
   "metadata": {},
   "outputs": [
    {
     "data": {
      "text/plain": [
       "array([[3, 6, 9],\n",
       "       [4, 5, 4],\n",
       "       [4, 5, 8],\n",
       "       [6, 9, 4]])"
      ]
     },
     "execution_count": 37,
     "metadata": {},
     "output_type": "execute_result"
    }
   ],
   "source": [
    "arr_2"
   ]
  },
  {
   "cell_type": "code",
   "execution_count": 5,
   "id": "2cbb616b",
   "metadata": {},
   "outputs": [
    {
     "data": {
      "text/plain": [
       "array([1, 5])"
      ]
     },
     "execution_count": 5,
     "metadata": {},
     "output_type": "execute_result"
    }
   ],
   "source": [
    "# Boolean Indexing\n",
    "# arr[Boolean Condition -> a condition that return a boolean array]\n",
    "arr = np.array([1, 2, 3, 4, 5])\n",
    "mask = np.array([True, False, False, False, True])\n",
    "result = arr[mask]\n",
    "result"
   ]
  },
  {
   "cell_type": "code",
   "execution_count": 6,
   "id": "075c9552",
   "metadata": {},
   "outputs": [
    {
     "data": {
      "text/plain": [
       "array([9428, 2478, 2882])"
      ]
     },
     "execution_count": 6,
     "metadata": {},
     "output_type": "execute_result"
    }
   ],
   "source": [
    "arr_1 = np.random.randint(1, 100000, 100)\n",
    "arr_1[(arr_1 % 2 == 0) & (arr_1 < 10000)]"
   ]
  },
  {
   "cell_type": "code",
   "execution_count": 9,
   "id": "b8d025d5",
   "metadata": {},
   "outputs": [
    {
     "data": {
      "text/plain": [
       "array([30, 10, 50, 70])"
      ]
     },
     "execution_count": 9,
     "metadata": {},
     "output_type": "execute_result"
    }
   ],
   "source": [
    "# Fancy Indexing\n",
    "# arr[[Indices]]\n",
    "arr = np.array([10, 20, 30, 40, 50, 60, 70, 80, 90])\n",
    "arr[[2, 0, 4, 6]]"
   ]
  },
  {
   "cell_type": "code",
   "execution_count": 10,
   "id": "0a8cc99d",
   "metadata": {},
   "outputs": [
    {
     "data": {
      "text/plain": [
       "array([2, 6, 7])"
      ]
     },
     "execution_count": 10,
     "metadata": {},
     "output_type": "execute_result"
    }
   ],
   "source": [
    "arr_2d = np.array([[1, 2, 3], [4, 5, 6], [7, 8, 9]])\n",
    "row_indices = np.array([0, 1, 2])\n",
    "col_indices = np.array([1, 2, 0])\n",
    "result = arr_2d[row_indices, col_indices]\n",
    "result"
   ]
  },
  {
   "cell_type": "code",
   "execution_count": 16,
   "id": "f502cb65",
   "metadata": {},
   "outputs": [
    {
     "name": "stdout",
     "output_type": "stream",
     "text": [
      "[1, 2, 3, 4, 5] [1 2 0 4 5]\n"
     ]
    }
   ],
   "source": [
    "# View vs. Copy\n",
    "list_1 = [1, 2, 3, 4, 5]\n",
    "arr_1 = np.array([1, 2, 3, 4, 5])\n",
    "\n",
    "temp_list = list_1[1:4] # copy\n",
    "temp_arr = arr_1[1:4] # view\n",
    "\n",
    "temp_list[1] = 0 # Modifies the copy version of the list.\n",
    "temp_arr[1] = 0 # Modifies the main array because the slicing and temp_arr is just a view.\n",
    "\n",
    "print(list_1, arr_1)\n",
    "\n",
    "# Note: If you really need to avoid modifying the original array, use the .copy() method before making any changes."
   ]
  },
  {
   "cell_type": "code",
   "execution_count": 20,
   "id": "3c57eb3c",
   "metadata": {},
   "outputs": [
    {
     "name": "stdout",
     "output_type": "stream",
     "text": [
      "False True\n"
     ]
    }
   ],
   "source": [
    "print(np.shares_memory(temp_list, list_1), np.shares_memory(temp_arr, arr_1))"
   ]
  },
  {
   "cell_type": "code",
   "execution_count": null,
   "id": "9dae0299",
   "metadata": {},
   "outputs": [],
   "source": []
  }
 ],
 "metadata": {
  "kernelspec": {
   "display_name": "my_projects_env",
   "language": "python",
   "name": "python3"
  },
  "language_info": {
   "codemirror_mode": {
    "name": "ipython",
    "version": 3
   },
   "file_extension": ".py",
   "mimetype": "text/x-python",
   "name": "python",
   "nbconvert_exporter": "python",
   "pygments_lexer": "ipython3",
   "version": "3.13.5"
  }
 },
 "nbformat": 4,
 "nbformat_minor": 5
}
