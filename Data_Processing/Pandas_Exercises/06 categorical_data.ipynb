{
 "cells": [
  {
   "cell_type": "code",
   "execution_count": 1,
   "id": "adb2c7c4",
   "metadata": {},
   "outputs": [],
   "source": [
    "import numpy as np\n",
    "import pandas as pd"
   ]
  },
  {
   "cell_type": "code",
   "execution_count": 52,
   "id": "99944c52",
   "metadata": {},
   "outputs": [
    {
     "data": {
      "text/plain": [
       "['Fair', 'Good', 'Excellent', 'Good', 'Fair']\n",
       "Categories (5, object): ['Terrible' < 'Bad' < 'Fair' < 'Good' < 'Excellent']"
      ]
     },
     "execution_count": 52,
     "metadata": {},
     "output_type": "execute_result"
    }
   ],
   "source": [
    "ratings = pd.Categorical(['Fair', 'Good', 'Excellent', 'Good', 'Fair'],\n",
    "                         categories=['Terrible', 'Bad', 'Fair', 'Good', 'Excellent'],\n",
    "                         ordered=True)\n",
    "ratings"
   ]
  },
  {
   "cell_type": "code",
   "execution_count": 53,
   "id": "6ffff618",
   "metadata": {},
   "outputs": [
    {
     "data": {
      "text/html": [
       "<div>\n",
       "<style scoped>\n",
       "    .dataframe tbody tr th:only-of-type {\n",
       "        vertical-align: middle;\n",
       "    }\n",
       "\n",
       "    .dataframe tbody tr th {\n",
       "        vertical-align: top;\n",
       "    }\n",
       "\n",
       "    .dataframe thead th {\n",
       "        text-align: right;\n",
       "    }\n",
       "</style>\n",
       "<table border=\"1\" class=\"dataframe\">\n",
       "  <thead>\n",
       "    <tr style=\"text-align: right;\">\n",
       "      <th></th>\n",
       "      <th>Food</th>\n",
       "      <th>Ratings</th>\n",
       "      <th>Price</th>\n",
       "    </tr>\n",
       "  </thead>\n",
       "  <tbody>\n",
       "    <tr>\n",
       "      <th>1</th>\n",
       "      <td>Pizza</td>\n",
       "      <td>Fair</td>\n",
       "      <td>10</td>\n",
       "    </tr>\n",
       "    <tr>\n",
       "      <th>2</th>\n",
       "      <td>Pasta</td>\n",
       "      <td>Good</td>\n",
       "      <td>15</td>\n",
       "    </tr>\n",
       "    <tr>\n",
       "      <th>3</th>\n",
       "      <td>Salad</td>\n",
       "      <td>Excellent</td>\n",
       "      <td>7</td>\n",
       "    </tr>\n",
       "    <tr>\n",
       "      <th>4</th>\n",
       "      <td>Burger</td>\n",
       "      <td>Good</td>\n",
       "      <td>12</td>\n",
       "    </tr>\n",
       "    <tr>\n",
       "      <th>5</th>\n",
       "      <td>Sushi</td>\n",
       "      <td>Fair</td>\n",
       "      <td>20</td>\n",
       "    </tr>\n",
       "  </tbody>\n",
       "</table>\n",
       "</div>"
      ],
      "text/plain": [
       "     Food    Ratings  Price\n",
       "1   Pizza       Fair     10\n",
       "2   Pasta       Good     15\n",
       "3   Salad  Excellent      7\n",
       "4  Burger       Good     12\n",
       "5   Sushi       Fair     20"
      ]
     },
     "execution_count": 53,
     "metadata": {},
     "output_type": "execute_result"
    }
   ],
   "source": [
    "df = pd.DataFrame({\n",
    "    'Food': ['Pizza','Pasta','Salad','Burger','Sushi'],\n",
    "    'Ratings': ratings,\n",
    "    'Price': [10, 15, 7, 12, 20],\n",
    "}, index=[1, 2, 3, 4, 5])\n",
    "\n",
    "df"
   ]
  },
  {
   "cell_type": "code",
   "execution_count": 91,
   "id": "6ef4c348",
   "metadata": {},
   "outputs": [
    {
     "data": {
      "text/html": [
       "<div>\n",
       "<style scoped>\n",
       "    .dataframe tbody tr th:only-of-type {\n",
       "        vertical-align: middle;\n",
       "    }\n",
       "\n",
       "    .dataframe tbody tr th {\n",
       "        vertical-align: top;\n",
       "    }\n",
       "\n",
       "    .dataframe thead th {\n",
       "        text-align: right;\n",
       "    }\n",
       "</style>\n",
       "<table border=\"1\" class=\"dataframe\">\n",
       "  <thead>\n",
       "    <tr style=\"text-align: right;\">\n",
       "      <th></th>\n",
       "      <th>Clothes</th>\n",
       "      <th>Price</th>\n",
       "      <th>Size</th>\n",
       "      <th>Color</th>\n",
       "    </tr>\n",
       "  </thead>\n",
       "  <tbody>\n",
       "    <tr>\n",
       "      <th>1</th>\n",
       "      <td>Shirt</td>\n",
       "      <td>20</td>\n",
       "      <td>M</td>\n",
       "      <td>Red</td>\n",
       "    </tr>\n",
       "    <tr>\n",
       "      <th>2</th>\n",
       "      <td>Pants</td>\n",
       "      <td>30</td>\n",
       "      <td>L</td>\n",
       "      <td>Blue</td>\n",
       "    </tr>\n",
       "    <tr>\n",
       "      <th>3</th>\n",
       "      <td>Jacket</td>\n",
       "      <td>50</td>\n",
       "      <td>XL</td>\n",
       "      <td>Black</td>\n",
       "    </tr>\n",
       "    <tr>\n",
       "      <th>4</th>\n",
       "      <td>Shoes</td>\n",
       "      <td>80</td>\n",
       "      <td>M</td>\n",
       "      <td>White</td>\n",
       "    </tr>\n",
       "    <tr>\n",
       "      <th>5</th>\n",
       "      <td>Hat</td>\n",
       "      <td>15</td>\n",
       "      <td>S</td>\n",
       "      <td>Green</td>\n",
       "    </tr>\n",
       "  </tbody>\n",
       "</table>\n",
       "</div>"
      ],
      "text/plain": [
       "  Clothes  Price Size  Color\n",
       "1   Shirt     20    M    Red\n",
       "2   Pants     30    L   Blue\n",
       "3  Jacket     50   XL  Black\n",
       "4   Shoes     80    M  White\n",
       "5     Hat     15    S  Green"
      ]
     },
     "execution_count": 91,
     "metadata": {},
     "output_type": "execute_result"
    }
   ],
   "source": [
    "df = pd.DataFrame({\n",
    "    'Clothes': ['Shirt', 'Pants', 'Jacket', 'Shoes', 'Hat'],\n",
    "    'Price': [20, 30, 50, 80, 15],\n",
    "    'Size': ['M', 'L', 'XL', 'M', 'S'],\n",
    "    'Color': ['Red', 'Blue', 'Black', 'White', 'Green']\n",
    "}, index=[1, 2, 3, 4, 5])\n",
    "\n",
    "df"
   ]
  },
  {
   "cell_type": "code",
   "execution_count": 92,
   "id": "6f488ea0",
   "metadata": {},
   "outputs": [],
   "source": [
    "df['Size'] = pd.Categorical(df['Size'], categories=['S', 'M', 'L', 'XL'], ordered=True)"
   ]
  },
  {
   "cell_type": "code",
   "execution_count": 93,
   "id": "dd8b0b76",
   "metadata": {},
   "outputs": [
    {
     "data": {
      "text/plain": [
       "1     M\n",
       "2     L\n",
       "3    XL\n",
       "4     M\n",
       "5     S\n",
       "Name: Size, dtype: category\n",
       "Categories (4, object): ['S' < 'M' < 'L' < 'XL']"
      ]
     },
     "execution_count": 93,
     "metadata": {},
     "output_type": "execute_result"
    }
   ],
   "source": [
    "df['Size']"
   ]
  },
  {
   "cell_type": "code",
   "execution_count": 94,
   "id": "7ab567df",
   "metadata": {},
   "outputs": [
    {
     "data": {
      "text/plain": [
       "True"
      ]
     },
     "execution_count": 94,
     "metadata": {},
     "output_type": "execute_result"
    }
   ],
   "source": [
    "df['Size'].cat.ordered"
   ]
  },
  {
   "cell_type": "code",
   "execution_count": 95,
   "id": "1a99cdce",
   "metadata": {},
   "outputs": [
    {
     "data": {
      "text/plain": [
       "Index(['S', 'M', 'L', 'XL'], dtype='object')"
      ]
     },
     "execution_count": 95,
     "metadata": {},
     "output_type": "execute_result"
    }
   ],
   "source": [
    "df['Size'].cat.categories"
   ]
  },
  {
   "cell_type": "code",
   "execution_count": 96,
   "id": "515d40f5",
   "metadata": {},
   "outputs": [],
   "source": [
    "df['Color'] = pd.Categorical(df['Color'], categories=['Red', 'Blue', 'Black', 'Green', 'White'], ordered=True)"
   ]
  },
  {
   "cell_type": "code",
   "execution_count": 97,
   "id": "9fb6da0f",
   "metadata": {},
   "outputs": [
    {
     "data": {
      "text/plain": [
       "1      Red\n",
       "2     Blue\n",
       "3    Black\n",
       "4    White\n",
       "5    Green\n",
       "Name: Color, dtype: category\n",
       "Categories (5, object): ['Blue' < 'Red' < 'Black' < 'White' < 'Green']"
      ]
     },
     "execution_count": 97,
     "metadata": {},
     "output_type": "execute_result"
    }
   ],
   "source": [
    "df['Color'].cat.reorder_categories(['Blue', 'Red', 'Black', 'White', 'Green'])"
   ]
  },
  {
   "cell_type": "code",
   "execution_count": 98,
   "id": "5e694406",
   "metadata": {},
   "outputs": [
    {
     "data": {
      "text/plain": [
       "1    1\n",
       "2    2\n",
       "3    3\n",
       "4    1\n",
       "5    0\n",
       "dtype: int8"
      ]
     },
     "execution_count": 98,
     "metadata": {},
     "output_type": "execute_result"
    }
   ],
   "source": [
    "df['Size'].cat.codes"
   ]
  },
  {
   "cell_type": "code",
   "execution_count": 99,
   "id": "1bac2e06",
   "metadata": {},
   "outputs": [
    {
     "data": {
      "text/plain": [
       "1    0\n",
       "2    1\n",
       "3    2\n",
       "4    4\n",
       "5    3\n",
       "dtype: int8"
      ]
     },
     "execution_count": 99,
     "metadata": {},
     "output_type": "execute_result"
    }
   ],
   "source": [
    "df['Color'].cat.codes"
   ]
  },
  {
   "cell_type": "code",
   "execution_count": 100,
   "id": "154ff196",
   "metadata": {},
   "outputs": [
    {
     "data": {
      "text/html": [
       "<div>\n",
       "<style scoped>\n",
       "    .dataframe tbody tr th:only-of-type {\n",
       "        vertical-align: middle;\n",
       "    }\n",
       "\n",
       "    .dataframe tbody tr th {\n",
       "        vertical-align: top;\n",
       "    }\n",
       "\n",
       "    .dataframe thead th {\n",
       "        text-align: right;\n",
       "    }\n",
       "</style>\n",
       "<table border=\"1\" class=\"dataframe\">\n",
       "  <thead>\n",
       "    <tr style=\"text-align: right;\">\n",
       "      <th></th>\n",
       "      <th>Clothes</th>\n",
       "      <th>Price</th>\n",
       "      <th>Size</th>\n",
       "      <th>Color</th>\n",
       "    </tr>\n",
       "  </thead>\n",
       "  <tbody>\n",
       "    <tr>\n",
       "      <th>1</th>\n",
       "      <td>Shirt</td>\n",
       "      <td>20</td>\n",
       "      <td>M</td>\n",
       "      <td>Red</td>\n",
       "    </tr>\n",
       "    <tr>\n",
       "      <th>2</th>\n",
       "      <td>Pants</td>\n",
       "      <td>30</td>\n",
       "      <td>L</td>\n",
       "      <td>Blue</td>\n",
       "    </tr>\n",
       "    <tr>\n",
       "      <th>3</th>\n",
       "      <td>Jacket</td>\n",
       "      <td>50</td>\n",
       "      <td>XL</td>\n",
       "      <td>Black</td>\n",
       "    </tr>\n",
       "    <tr>\n",
       "      <th>4</th>\n",
       "      <td>Shoes</td>\n",
       "      <td>80</td>\n",
       "      <td>M</td>\n",
       "      <td>White</td>\n",
       "    </tr>\n",
       "    <tr>\n",
       "      <th>5</th>\n",
       "      <td>Hat</td>\n",
       "      <td>15</td>\n",
       "      <td>S</td>\n",
       "      <td>Green</td>\n",
       "    </tr>\n",
       "  </tbody>\n",
       "</table>\n",
       "</div>"
      ],
      "text/plain": [
       "  Clothes  Price Size  Color\n",
       "1   Shirt     20    M    Red\n",
       "2   Pants     30    L   Blue\n",
       "3  Jacket     50   XL  Black\n",
       "4   Shoes     80    M  White\n",
       "5     Hat     15    S  Green"
      ]
     },
     "execution_count": 100,
     "metadata": {},
     "output_type": "execute_result"
    }
   ],
   "source": [
    "df"
   ]
  },
  {
   "cell_type": "code",
   "execution_count": 101,
   "id": "02a47dc0",
   "metadata": {},
   "outputs": [],
   "source": [
    "df['Size'] = df['Size'].cat.add_categories('XXL')"
   ]
  },
  {
   "cell_type": "code",
   "execution_count": 102,
   "id": "ba5718b9",
   "metadata": {},
   "outputs": [
    {
     "data": {
      "text/plain": [
       "Index(['S', 'M', 'L', 'XL', 'XXL'], dtype='object')"
      ]
     },
     "execution_count": 102,
     "metadata": {},
     "output_type": "execute_result"
    }
   ],
   "source": [
    "df['Size'].cat.categories"
   ]
  },
  {
   "cell_type": "code",
   "execution_count": 103,
   "id": "d6fbc833",
   "metadata": {},
   "outputs": [
    {
     "data": {
      "text/plain": [
       "1   2025-01-01\n",
       "2   2025-01-02\n",
       "3   2025-01-03\n",
       "4   2025-01-04\n",
       "5   2025-01-05\n",
       "dtype: datetime64[ns]"
      ]
     },
     "execution_count": 103,
     "metadata": {},
     "output_type": "execute_result"
    }
   ],
   "source": [
    "dates = pd.date_range(start='2025-01-01', freq='D', periods=5)\n",
    "time_series = pd.Series(dates, index=np.arange(1, len(dates)+1))\n",
    "time_series"
   ]
  },
  {
   "cell_type": "code",
   "execution_count": 107,
   "id": "d950efe6",
   "metadata": {},
   "outputs": [
    {
     "data": {
      "text/html": [
       "<div>\n",
       "<style scoped>\n",
       "    .dataframe tbody tr th:only-of-type {\n",
       "        vertical-align: middle;\n",
       "    }\n",
       "\n",
       "    .dataframe tbody tr th {\n",
       "        vertical-align: top;\n",
       "    }\n",
       "\n",
       "    .dataframe thead th {\n",
       "        text-align: right;\n",
       "    }\n",
       "</style>\n",
       "<table border=\"1\" class=\"dataframe\">\n",
       "  <thead>\n",
       "    <tr style=\"text-align: right;\">\n",
       "      <th></th>\n",
       "      <th>Clothes</th>\n",
       "      <th>Price</th>\n",
       "      <th>Size</th>\n",
       "      <th>Color</th>\n",
       "    </tr>\n",
       "  </thead>\n",
       "  <tbody>\n",
       "    <tr>\n",
       "      <th>1</th>\n",
       "      <td>Shirt</td>\n",
       "      <td>20</td>\n",
       "      <td>M</td>\n",
       "      <td>Red</td>\n",
       "    </tr>\n",
       "    <tr>\n",
       "      <th>2</th>\n",
       "      <td>Pants</td>\n",
       "      <td>30</td>\n",
       "      <td>L</td>\n",
       "      <td>Blue</td>\n",
       "    </tr>\n",
       "    <tr>\n",
       "      <th>3</th>\n",
       "      <td>Jacket</td>\n",
       "      <td>50</td>\n",
       "      <td>XL</td>\n",
       "      <td>Black</td>\n",
       "    </tr>\n",
       "    <tr>\n",
       "      <th>4</th>\n",
       "      <td>Shoes</td>\n",
       "      <td>80</td>\n",
       "      <td>M</td>\n",
       "      <td>White</td>\n",
       "    </tr>\n",
       "    <tr>\n",
       "      <th>5</th>\n",
       "      <td>Hat</td>\n",
       "      <td>15</td>\n",
       "      <td>S</td>\n",
       "      <td>Green</td>\n",
       "    </tr>\n",
       "  </tbody>\n",
       "</table>\n",
       "</div>"
      ],
      "text/plain": [
       "  Clothes  Price Size  Color\n",
       "1   Shirt     20    M    Red\n",
       "2   Pants     30    L   Blue\n",
       "3  Jacket     50   XL  Black\n",
       "4   Shoes     80    M  White\n",
       "5     Hat     15    S  Green"
      ]
     },
     "execution_count": 107,
     "metadata": {},
     "output_type": "execute_result"
    }
   ],
   "source": [
    "df"
   ]
  },
  {
   "cell_type": "code",
   "execution_count": 126,
   "id": "5ff21968",
   "metadata": {},
   "outputs": [
    {
     "data": {
      "text/html": [
       "<div>\n",
       "<style scoped>\n",
       "    .dataframe tbody tr th:only-of-type {\n",
       "        vertical-align: middle;\n",
       "    }\n",
       "\n",
       "    .dataframe tbody tr th {\n",
       "        vertical-align: top;\n",
       "    }\n",
       "\n",
       "    .dataframe thead th {\n",
       "        text-align: right;\n",
       "    }\n",
       "</style>\n",
       "<table border=\"1\" class=\"dataframe\">\n",
       "  <thead>\n",
       "    <tr style=\"text-align: right;\">\n",
       "      <th></th>\n",
       "      <th>Clothes</th>\n",
       "      <th>Price</th>\n",
       "      <th>Size</th>\n",
       "      <th>Size Encoded</th>\n",
       "      <th>Color_Red</th>\n",
       "      <th>Color_Blue</th>\n",
       "      <th>Color_Black</th>\n",
       "      <th>Color_Green</th>\n",
       "      <th>Color_White</th>\n",
       "    </tr>\n",
       "  </thead>\n",
       "  <tbody>\n",
       "    <tr>\n",
       "      <th>1</th>\n",
       "      <td>Shirt</td>\n",
       "      <td>20</td>\n",
       "      <td>M</td>\n",
       "      <td>1</td>\n",
       "      <td>True</td>\n",
       "      <td>False</td>\n",
       "      <td>False</td>\n",
       "      <td>False</td>\n",
       "      <td>False</td>\n",
       "    </tr>\n",
       "    <tr>\n",
       "      <th>2</th>\n",
       "      <td>Pants</td>\n",
       "      <td>30</td>\n",
       "      <td>L</td>\n",
       "      <td>2</td>\n",
       "      <td>False</td>\n",
       "      <td>True</td>\n",
       "      <td>False</td>\n",
       "      <td>False</td>\n",
       "      <td>False</td>\n",
       "    </tr>\n",
       "    <tr>\n",
       "      <th>3</th>\n",
       "      <td>Jacket</td>\n",
       "      <td>50</td>\n",
       "      <td>XL</td>\n",
       "      <td>3</td>\n",
       "      <td>False</td>\n",
       "      <td>False</td>\n",
       "      <td>True</td>\n",
       "      <td>False</td>\n",
       "      <td>False</td>\n",
       "    </tr>\n",
       "    <tr>\n",
       "      <th>4</th>\n",
       "      <td>Shoes</td>\n",
       "      <td>80</td>\n",
       "      <td>M</td>\n",
       "      <td>1</td>\n",
       "      <td>False</td>\n",
       "      <td>False</td>\n",
       "      <td>False</td>\n",
       "      <td>False</td>\n",
       "      <td>True</td>\n",
       "    </tr>\n",
       "    <tr>\n",
       "      <th>5</th>\n",
       "      <td>Hat</td>\n",
       "      <td>15</td>\n",
       "      <td>S</td>\n",
       "      <td>0</td>\n",
       "      <td>False</td>\n",
       "      <td>False</td>\n",
       "      <td>False</td>\n",
       "      <td>True</td>\n",
       "      <td>False</td>\n",
       "    </tr>\n",
       "  </tbody>\n",
       "</table>\n",
       "</div>"
      ],
      "text/plain": [
       "  Clothes  Price Size  Size Encoded  Color_Red  Color_Blue  Color_Black  \\\n",
       "1   Shirt     20    M             1       True       False        False   \n",
       "2   Pants     30    L             2      False        True        False   \n",
       "3  Jacket     50   XL             3      False       False         True   \n",
       "4   Shoes     80    M             1      False       False        False   \n",
       "5     Hat     15    S             0      False       False        False   \n",
       "\n",
       "   Color_Green  Color_White  \n",
       "1        False        False  \n",
       "2        False        False  \n",
       "3        False        False  \n",
       "4        False         True  \n",
       "5         True        False  "
      ]
     },
     "execution_count": 126,
     "metadata": {},
     "output_type": "execute_result"
    }
   ],
   "source": [
    "df_one_hot_encoded = pd.get_dummies(df, columns=['Color'])\n",
    "df_one_hot_encoded"
   ]
  },
  {
   "cell_type": "code",
   "execution_count": 127,
   "id": "5c8be625",
   "metadata": {},
   "outputs": [
    {
     "data": {
      "text/html": [
       "<div>\n",
       "<style scoped>\n",
       "    .dataframe tbody tr th:only-of-type {\n",
       "        vertical-align: middle;\n",
       "    }\n",
       "\n",
       "    .dataframe tbody tr th {\n",
       "        vertical-align: top;\n",
       "    }\n",
       "\n",
       "    .dataframe thead th {\n",
       "        text-align: right;\n",
       "    }\n",
       "</style>\n",
       "<table border=\"1\" class=\"dataframe\">\n",
       "  <thead>\n",
       "    <tr style=\"text-align: right;\">\n",
       "      <th></th>\n",
       "      <th>Clothes</th>\n",
       "      <th>Price</th>\n",
       "      <th>Size</th>\n",
       "      <th>Size Encoded</th>\n",
       "      <th>C_Red</th>\n",
       "      <th>C_Blue</th>\n",
       "      <th>C_Black</th>\n",
       "      <th>C_Green</th>\n",
       "      <th>C_White</th>\n",
       "    </tr>\n",
       "  </thead>\n",
       "  <tbody>\n",
       "    <tr>\n",
       "      <th>1</th>\n",
       "      <td>Shirt</td>\n",
       "      <td>20</td>\n",
       "      <td>M</td>\n",
       "      <td>1</td>\n",
       "      <td>True</td>\n",
       "      <td>False</td>\n",
       "      <td>False</td>\n",
       "      <td>False</td>\n",
       "      <td>False</td>\n",
       "    </tr>\n",
       "    <tr>\n",
       "      <th>2</th>\n",
       "      <td>Pants</td>\n",
       "      <td>30</td>\n",
       "      <td>L</td>\n",
       "      <td>2</td>\n",
       "      <td>False</td>\n",
       "      <td>True</td>\n",
       "      <td>False</td>\n",
       "      <td>False</td>\n",
       "      <td>False</td>\n",
       "    </tr>\n",
       "    <tr>\n",
       "      <th>3</th>\n",
       "      <td>Jacket</td>\n",
       "      <td>50</td>\n",
       "      <td>XL</td>\n",
       "      <td>3</td>\n",
       "      <td>False</td>\n",
       "      <td>False</td>\n",
       "      <td>True</td>\n",
       "      <td>False</td>\n",
       "      <td>False</td>\n",
       "    </tr>\n",
       "    <tr>\n",
       "      <th>4</th>\n",
       "      <td>Shoes</td>\n",
       "      <td>80</td>\n",
       "      <td>M</td>\n",
       "      <td>1</td>\n",
       "      <td>False</td>\n",
       "      <td>False</td>\n",
       "      <td>False</td>\n",
       "      <td>False</td>\n",
       "      <td>True</td>\n",
       "    </tr>\n",
       "    <tr>\n",
       "      <th>5</th>\n",
       "      <td>Hat</td>\n",
       "      <td>15</td>\n",
       "      <td>S</td>\n",
       "      <td>0</td>\n",
       "      <td>False</td>\n",
       "      <td>False</td>\n",
       "      <td>False</td>\n",
       "      <td>True</td>\n",
       "      <td>False</td>\n",
       "    </tr>\n",
       "  </tbody>\n",
       "</table>\n",
       "</div>"
      ],
      "text/plain": [
       "  Clothes  Price Size  Size Encoded  C_Red  C_Blue  C_Black  C_Green  C_White\n",
       "1   Shirt     20    M             1   True   False    False    False    False\n",
       "2   Pants     30    L             2  False    True    False    False    False\n",
       "3  Jacket     50   XL             3  False   False     True    False    False\n",
       "4   Shoes     80    M             1  False   False    False    False     True\n",
       "5     Hat     15    S             0  False   False    False     True    False"
      ]
     },
     "execution_count": 127,
     "metadata": {},
     "output_type": "execute_result"
    }
   ],
   "source": [
    "df_one_hot_encoded = pd.get_dummies(df, columns=['Color'], prefix=['C'])\n",
    "df_one_hot_encoded"
   ]
  },
  {
   "cell_type": "code",
   "execution_count": 135,
   "id": "bf0ad9ba",
   "metadata": {},
   "outputs": [],
   "source": [
    "df['Size Encoded'] = pd.Categorical(df['Size'],\n",
    "                                    categories=df['Size'].cat.categories.tolist(),\n",
    "                                    ordered=True).codes"
   ]
  },
  {
   "cell_type": "code",
   "execution_count": 136,
   "id": "0765e00e",
   "metadata": {},
   "outputs": [
    {
     "data": {
      "text/html": [
       "<div>\n",
       "<style scoped>\n",
       "    .dataframe tbody tr th:only-of-type {\n",
       "        vertical-align: middle;\n",
       "    }\n",
       "\n",
       "    .dataframe tbody tr th {\n",
       "        vertical-align: top;\n",
       "    }\n",
       "\n",
       "    .dataframe thead th {\n",
       "        text-align: right;\n",
       "    }\n",
       "</style>\n",
       "<table border=\"1\" class=\"dataframe\">\n",
       "  <thead>\n",
       "    <tr style=\"text-align: right;\">\n",
       "      <th></th>\n",
       "      <th>Clothes</th>\n",
       "      <th>Price</th>\n",
       "      <th>Size</th>\n",
       "      <th>Color</th>\n",
       "      <th>Size Encoded</th>\n",
       "    </tr>\n",
       "  </thead>\n",
       "  <tbody>\n",
       "    <tr>\n",
       "      <th>1</th>\n",
       "      <td>Shirt</td>\n",
       "      <td>20</td>\n",
       "      <td>M</td>\n",
       "      <td>Red</td>\n",
       "      <td>1</td>\n",
       "    </tr>\n",
       "    <tr>\n",
       "      <th>2</th>\n",
       "      <td>Pants</td>\n",
       "      <td>30</td>\n",
       "      <td>L</td>\n",
       "      <td>Blue</td>\n",
       "      <td>2</td>\n",
       "    </tr>\n",
       "    <tr>\n",
       "      <th>3</th>\n",
       "      <td>Jacket</td>\n",
       "      <td>50</td>\n",
       "      <td>XL</td>\n",
       "      <td>Black</td>\n",
       "      <td>3</td>\n",
       "    </tr>\n",
       "    <tr>\n",
       "      <th>4</th>\n",
       "      <td>Shoes</td>\n",
       "      <td>80</td>\n",
       "      <td>M</td>\n",
       "      <td>White</td>\n",
       "      <td>1</td>\n",
       "    </tr>\n",
       "    <tr>\n",
       "      <th>5</th>\n",
       "      <td>Hat</td>\n",
       "      <td>15</td>\n",
       "      <td>S</td>\n",
       "      <td>Green</td>\n",
       "      <td>0</td>\n",
       "    </tr>\n",
       "  </tbody>\n",
       "</table>\n",
       "</div>"
      ],
      "text/plain": [
       "  Clothes  Price Size  Color  Size Encoded\n",
       "1   Shirt     20    M    Red             1\n",
       "2   Pants     30    L   Blue             2\n",
       "3  Jacket     50   XL  Black             3\n",
       "4   Shoes     80    M  White             1\n",
       "5     Hat     15    S  Green             0"
      ]
     },
     "execution_count": 136,
     "metadata": {},
     "output_type": "execute_result"
    }
   ],
   "source": [
    "df"
   ]
  }
 ],
 "metadata": {
  "kernelspec": {
   "display_name": "my_projects_env",
   "language": "python",
   "name": "python3"
  },
  "language_info": {
   "codemirror_mode": {
    "name": "ipython",
    "version": 3
   },
   "file_extension": ".py",
   "mimetype": "text/x-python",
   "name": "python",
   "nbconvert_exporter": "python",
   "pygments_lexer": "ipython3",
   "version": "3.13.5"
  }
 },
 "nbformat": 4,
 "nbformat_minor": 5
}
