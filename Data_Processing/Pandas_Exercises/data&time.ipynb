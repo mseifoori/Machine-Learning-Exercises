{
 "cells": [
  {
   "cell_type": "code",
   "execution_count": 2,
   "id": "0a9fc850",
   "metadata": {},
   "outputs": [],
   "source": [
    "import numpy as np\n",
    "import pandas as pd"
   ]
  },
  {
   "cell_type": "code",
   "execution_count": null,
   "id": "bb07b12a",
   "metadata": {},
   "outputs": [
    {
     "data": {
      "text/plain": [
       "0     2025-01-01\n",
       "1     2025-01-02\n",
       "2     2025-01-03\n",
       "3     2025-01-04\n",
       "4     2025-01-05\n",
       "         ...    \n",
       "360   2025-12-27\n",
       "361   2025-12-28\n",
       "362   2025-12-29\n",
       "363   2025-12-30\n",
       "364   2025-12-31\n",
       "Length: 365, dtype: datetime64[ns]"
      ]
     },
     "execution_count": 4,
     "metadata": {},
     "output_type": "execute_result"
    }
   ],
   "source": [
    "dates = pd.date_range(start='2025-01-01', end='2025-12-31', freq='D')\n",
    "time_series = pd.Series(dates)\n",
    "time_series"
   ]
  },
  {
   "cell_type": "code",
   "execution_count": 8,
   "id": "7e184b47",
   "metadata": {},
   "outputs": [
    {
     "data": {
      "text/plain": [
       "0    2025-01-01\n",
       "1    2025-02-01\n",
       "2    2025-03-01\n",
       "3    2025-04-01\n",
       "4    2025-05-01\n",
       "5    2025-06-01\n",
       "6    2025-07-01\n",
       "7    2025-08-01\n",
       "8    2025-09-01\n",
       "9    2025-10-01\n",
       "10   2025-11-01\n",
       "11   2025-12-01\n",
       "dtype: datetime64[ns]"
      ]
     },
     "execution_count": 8,
     "metadata": {},
     "output_type": "execute_result"
    }
   ],
   "source": [
    "time_series = pd.Series(pd.date_range(start='2025-01', end='2025-12', freq='MS'))\n",
    "time_series"
   ]
  },
  {
   "cell_type": "code",
   "execution_count": 9,
   "id": "c89ee34c",
   "metadata": {},
   "outputs": [
    {
     "data": {
      "text/plain": [
       "Timestamp('2025-03-12 00:00:00')"
      ]
     },
     "execution_count": 9,
     "metadata": {},
     "output_type": "execute_result"
    }
   ],
   "source": [
    "ts = pd.Timestamp('2025-03-12')\n",
    "ts"
   ]
  },
  {
   "cell_type": "code",
   "execution_count": 12,
   "id": "c7f0fae6",
   "metadata": {},
   "outputs": [
    {
     "data": {
      "text/plain": [
       "Timestamp('2024-12-04 13:26:00')"
      ]
     },
     "execution_count": 12,
     "metadata": {},
     "output_type": "execute_result"
    }
   ],
   "source": [
    "ts = pd.Timestamp('2024-12-04, 13:26')\n",
    "ts"
   ]
  },
  {
   "cell_type": "code",
   "execution_count": 13,
   "id": "29451a19",
   "metadata": {},
   "outputs": [
    {
     "data": {
      "text/plain": [
       "2024"
      ]
     },
     "execution_count": 13,
     "metadata": {},
     "output_type": "execute_result"
    }
   ],
   "source": [
    "ts.year"
   ]
  },
  {
   "cell_type": "code",
   "execution_count": 16,
   "id": "1812b3dd",
   "metadata": {},
   "outputs": [
    {
     "data": {
      "text/plain": [
       "26"
      ]
     },
     "execution_count": 16,
     "metadata": {},
     "output_type": "execute_result"
    }
   ],
   "source": [
    "ts.minute"
   ]
  },
  {
   "cell_type": "code",
   "execution_count": 17,
   "id": "22ce82c0",
   "metadata": {},
   "outputs": [
    {
     "data": {
      "text/plain": [
       "Timestamp('2025-04-22 18:32:00+0000', tz='UTC')"
      ]
     },
     "execution_count": 17,
     "metadata": {},
     "output_type": "execute_result"
    }
   ],
   "source": [
    "ts = pd.Timestamp('2025-04-22, 18:32', tz='UTC')\n",
    "ts"
   ]
  },
  {
   "cell_type": "code",
   "execution_count": 20,
   "id": "c5169fe2",
   "metadata": {},
   "outputs": [
    {
     "data": {
      "text/plain": [
       "Timestamp('2025-04-22 14:32:00-0400', tz='US/Eastern')"
      ]
     },
     "execution_count": 20,
     "metadata": {},
     "output_type": "execute_result"
    }
   ],
   "source": [
    "ts.tz_convert('US/Eastern')"
   ]
  },
  {
   "cell_type": "code",
   "execution_count": 34,
   "id": "fd610ab2",
   "metadata": {},
   "outputs": [
    {
     "data": {
      "text/plain": [
       "1   2025-01-01\n",
       "2   2025-01-02\n",
       "3   2025-01-03\n",
       "4   2025-01-04\n",
       "5   2025-01-05\n",
       "dtype: datetime64[ns]"
      ]
     },
     "execution_count": 34,
     "metadata": {},
     "output_type": "execute_result"
    }
   ],
   "source": [
    "dates = pd.date_range(start='2025-01-01', freq='D', periods=5)\n",
    "time_series = pd.Series(dates, index=np.arange(1, len(dates)+1))\n",
    "time_series"
   ]
  },
  {
   "cell_type": "code",
   "execution_count": 3,
   "id": "a972dc2a",
   "metadata": {},
   "outputs": [
    {
     "data": {
      "text/html": [
       "<div>\n",
       "<style scoped>\n",
       "    .dataframe tbody tr th:only-of-type {\n",
       "        vertical-align: middle;\n",
       "    }\n",
       "\n",
       "    .dataframe tbody tr th {\n",
       "        vertical-align: top;\n",
       "    }\n",
       "\n",
       "    .dataframe thead th {\n",
       "        text-align: right;\n",
       "    }\n",
       "</style>\n",
       "<table border=\"1\" class=\"dataframe\">\n",
       "  <thead>\n",
       "    <tr style=\"text-align: right;\">\n",
       "      <th></th>\n",
       "      <th>Patient_ID</th>\n",
       "      <th>Test Date</th>\n",
       "      <th>Test Type</th>\n",
       "      <th>Result</th>\n",
       "    </tr>\n",
       "  </thead>\n",
       "  <tbody>\n",
       "    <tr>\n",
       "      <th>1</th>\n",
       "      <td>1</td>\n",
       "      <td>2025-05-01</td>\n",
       "      <td>A</td>\n",
       "      <td>P</td>\n",
       "    </tr>\n",
       "    <tr>\n",
       "      <th>2</th>\n",
       "      <td>2</td>\n",
       "      <td>2025-05-02</td>\n",
       "      <td>B</td>\n",
       "      <td>High</td>\n",
       "    </tr>\n",
       "    <tr>\n",
       "      <th>3</th>\n",
       "      <td>3</td>\n",
       "      <td>2025-05-03</td>\n",
       "      <td>A</td>\n",
       "      <td>N</td>\n",
       "    </tr>\n",
       "    <tr>\n",
       "      <th>4</th>\n",
       "      <td>4</td>\n",
       "      <td>2025-05-04</td>\n",
       "      <td>C</td>\n",
       "      <td>2.3</td>\n",
       "    </tr>\n",
       "    <tr>\n",
       "      <th>5</th>\n",
       "      <td>5</td>\n",
       "      <td>2025-05-05</td>\n",
       "      <td>B</td>\n",
       "      <td>Normal</td>\n",
       "    </tr>\n",
       "  </tbody>\n",
       "</table>\n",
       "</div>"
      ],
      "text/plain": [
       "   Patient_ID  Test Date Test Type  Result\n",
       "1           1 2025-05-01         A       P\n",
       "2           2 2025-05-02         B    High\n",
       "3           3 2025-05-03         A       N\n",
       "4           4 2025-05-04         C     2.3\n",
       "5           5 2025-05-05         B  Normal"
      ]
     },
     "execution_count": 3,
     "metadata": {},
     "output_type": "execute_result"
    }
   ],
   "source": [
    "test_dates = pd.date_range(start='2025-05-01', periods=5, freq='D')\n",
    "month_1_tests_df = pd.DataFrame({\n",
    "    'Patient_ID': [1, 2, 3, 4, 5],\n",
    "    'Test Date': test_dates,\n",
    "    'Test Type': ['A', 'B', 'A', 'C', 'B'],\n",
    "    'Result': ['P', 'High', 'N', 2.3, 'Normal']\n",
    "}, index=np.arange(1, len(test_dates)+1))\n",
    "\n",
    "month_1_tests_df"
   ]
  },
  {
   "cell_type": "code",
   "execution_count": 75,
   "id": "7570e678",
   "metadata": {},
   "outputs": [
    {
     "data": {
      "text/plain": [
       "DatetimeIndex(['2024-01-04 00:00:00', '2025-03-03 00:00:00',\n",
       "               '2025-04-22 18:32:00', '2025-05-15 13:26:56'],\n",
       "              dtype='datetime64[ns]', freq=None)"
      ]
     },
     "execution_count": 75,
     "metadata": {},
     "output_type": "execute_result"
    }
   ],
   "source": [
    "date_strings = ['2024-01-04', '2025/03/03', '20250422 18:32', '2025-05-15 13:26:56']\n",
    "pd.to_datetime(date_strings, format='mixed')"
   ]
  },
  {
   "cell_type": "code",
   "execution_count": 76,
   "id": "49c5d488",
   "metadata": {},
   "outputs": [
    {
     "data": {
      "text/plain": [
       "DatetimeIndex(['2025-01-01', '2025-01-02', '2025-01-03', '2025-01-04',\n",
       "               '2025-01-05'],\n",
       "              dtype='datetime64[ns]', freq='D')"
      ]
     },
     "execution_count": 76,
     "metadata": {},
     "output_type": "execute_result"
    }
   ],
   "source": [
    "dates"
   ]
  },
  {
   "cell_type": "code",
   "execution_count": 79,
   "id": "0e5ca049",
   "metadata": {},
   "outputs": [
    {
     "data": {
      "text/plain": [
       "1    01/01/2025\n",
       "2    01/02/2025\n",
       "3    01/03/2025\n",
       "4    01/04/2025\n",
       "5    01/05/2025\n",
       "dtype: object"
      ]
     },
     "execution_count": 79,
     "metadata": {},
     "output_type": "execute_result"
    }
   ],
   "source": [
    "time_series.dt.strftime('%m/%d/%Y')"
   ]
  },
  {
   "cell_type": "code",
   "execution_count": 81,
   "id": "9fafe3e7",
   "metadata": {},
   "outputs": [
    {
     "data": {
      "text/plain": [
       "DatetimeIndex(['2025-01-01', '2025-01-02', '2025-01-03', '2025-01-04',\n",
       "               '2025-01-05'],\n",
       "              dtype='datetime64[ns]', freq='D')"
      ]
     },
     "execution_count": 81,
     "metadata": {},
     "output_type": "execute_result"
    }
   ],
   "source": [
    "dates"
   ]
  },
  {
   "cell_type": "code",
   "execution_count": 84,
   "id": "53ea04e7",
   "metadata": {},
   "outputs": [
    {
     "data": {
      "text/plain": [
       "'C.UTF-8'"
      ]
     },
     "execution_count": 84,
     "metadata": {},
     "output_type": "execute_result"
    }
   ],
   "source": [
    "import locale\n",
    "\n",
    "locale.setlocale(locale.LC_TIME, '')"
   ]
  },
  {
   "cell_type": "code",
   "execution_count": 85,
   "id": "a15ad794",
   "metadata": {},
   "outputs": [
    {
     "data": {
      "text/html": [
       "<div>\n",
       "<style scoped>\n",
       "    .dataframe tbody tr th:only-of-type {\n",
       "        vertical-align: middle;\n",
       "    }\n",
       "\n",
       "    .dataframe tbody tr th {\n",
       "        vertical-align: top;\n",
       "    }\n",
       "\n",
       "    .dataframe thead th {\n",
       "        text-align: right;\n",
       "    }\n",
       "</style>\n",
       "<table border=\"1\" class=\"dataframe\">\n",
       "  <thead>\n",
       "    <tr style=\"text-align: right;\">\n",
       "      <th></th>\n",
       "      <th>Index</th>\n",
       "      <th>User Id</th>\n",
       "      <th>First Name</th>\n",
       "      <th>Last Name</th>\n",
       "      <th>Sex</th>\n",
       "      <th>Email</th>\n",
       "      <th>Phone</th>\n",
       "      <th>Date of birth</th>\n",
       "      <th>Job Title</th>\n",
       "    </tr>\n",
       "  </thead>\n",
       "  <tbody>\n",
       "    <tr>\n",
       "      <th>0</th>\n",
       "      <td>1</td>\n",
       "      <td>5f10e9D33fC5f2b</td>\n",
       "      <td>Sara</td>\n",
       "      <td>Mcguire</td>\n",
       "      <td>Female</td>\n",
       "      <td>tsharp@example.net</td>\n",
       "      <td>(971)643-6089x9160</td>\n",
       "      <td>1921-08-17</td>\n",
       "      <td>Editor, commissioning</td>\n",
       "    </tr>\n",
       "    <tr>\n",
       "      <th>1</th>\n",
       "      <td>2</td>\n",
       "      <td>751cD1cbF77e005</td>\n",
       "      <td>Alisha</td>\n",
       "      <td>Hebert</td>\n",
       "      <td>Male</td>\n",
       "      <td>vincentgarrett@example.net</td>\n",
       "      <td>+1-114-355-1841x78347</td>\n",
       "      <td>1969-06-28</td>\n",
       "      <td>Broadcast engineer</td>\n",
       "    </tr>\n",
       "    <tr>\n",
       "      <th>2</th>\n",
       "      <td>3</td>\n",
       "      <td>DcEFDB2D2e62bF9</td>\n",
       "      <td>Gwendolyn</td>\n",
       "      <td>Sheppard</td>\n",
       "      <td>Male</td>\n",
       "      <td>mercadojonathan@example.com</td>\n",
       "      <td>9017807728</td>\n",
       "      <td>1915-09-25</td>\n",
       "      <td>Industrial buyer</td>\n",
       "    </tr>\n",
       "    <tr>\n",
       "      <th>3</th>\n",
       "      <td>4</td>\n",
       "      <td>C88661E02EEDA9e</td>\n",
       "      <td>Kristine</td>\n",
       "      <td>Mccann</td>\n",
       "      <td>Female</td>\n",
       "      <td>lindsay55@example.com</td>\n",
       "      <td>+1-607-333-9911x59088</td>\n",
       "      <td>1978-07-27</td>\n",
       "      <td>Multimedia specialist</td>\n",
       "    </tr>\n",
       "    <tr>\n",
       "      <th>4</th>\n",
       "      <td>5</td>\n",
       "      <td>fafF1aBDebaB2a6</td>\n",
       "      <td>Bobby</td>\n",
       "      <td>Pittman</td>\n",
       "      <td>Female</td>\n",
       "      <td>blevinsmorgan@example.com</td>\n",
       "      <td>3739847538</td>\n",
       "      <td>1989-11-17</td>\n",
       "      <td>Planning and development surveyor</td>\n",
       "    </tr>\n",
       "    <tr>\n",
       "      <th>...</th>\n",
       "      <td>...</td>\n",
       "      <td>...</td>\n",
       "      <td>...</td>\n",
       "      <td>...</td>\n",
       "      <td>...</td>\n",
       "      <td>...</td>\n",
       "      <td>...</td>\n",
       "      <td>...</td>\n",
       "      <td>...</td>\n",
       "    </tr>\n",
       "    <tr>\n",
       "      <th>9995</th>\n",
       "      <td>9996</td>\n",
       "      <td>D66F0e4EdFc35e6</td>\n",
       "      <td>Tina</td>\n",
       "      <td>Sherman</td>\n",
       "      <td>Male</td>\n",
       "      <td>bartlettcolleen@example.org</td>\n",
       "      <td>(455)476-4044x5755</td>\n",
       "      <td>1974-07-28</td>\n",
       "      <td>Scientist, physiological</td>\n",
       "    </tr>\n",
       "    <tr>\n",
       "      <th>9996</th>\n",
       "      <td>9997</td>\n",
       "      <td>c753d8B9F5b6054</td>\n",
       "      <td>Earl</td>\n",
       "      <td>Jennings</td>\n",
       "      <td>Female</td>\n",
       "      <td>andreabenton@example.com</td>\n",
       "      <td>009.056.6505</td>\n",
       "      <td>1932-08-20</td>\n",
       "      <td>Warehouse manager</td>\n",
       "    </tr>\n",
       "    <tr>\n",
       "      <th>9997</th>\n",
       "      <td>9998</td>\n",
       "      <td>Fb2c7daAdD82dAE</td>\n",
       "      <td>Ellen</td>\n",
       "      <td>Dominguez</td>\n",
       "      <td>Female</td>\n",
       "      <td>michaelayoder@example.net</td>\n",
       "      <td>409-428-4297x469</td>\n",
       "      <td>1966-06-06</td>\n",
       "      <td>Lawyer</td>\n",
       "    </tr>\n",
       "    <tr>\n",
       "      <th>9998</th>\n",
       "      <td>9999</td>\n",
       "      <td>34D88Ffc743Ca5B</td>\n",
       "      <td>Emma</td>\n",
       "      <td>Clark</td>\n",
       "      <td>Male</td>\n",
       "      <td>pstrickland@example.com</td>\n",
       "      <td>849-868-8653</td>\n",
       "      <td>1907-05-09</td>\n",
       "      <td>Accounting technician</td>\n",
       "    </tr>\n",
       "    <tr>\n",
       "      <th>9999</th>\n",
       "      <td>10000</td>\n",
       "      <td>82D540ce0BE556f</td>\n",
       "      <td>Katrina</td>\n",
       "      <td>Schwartz</td>\n",
       "      <td>Female</td>\n",
       "      <td>andres56@example.org</td>\n",
       "      <td>001-874-330-5546x16770</td>\n",
       "      <td>1935-08-14</td>\n",
       "      <td>Drilling engineer</td>\n",
       "    </tr>\n",
       "  </tbody>\n",
       "</table>\n",
       "<p>10000 rows × 9 columns</p>\n",
       "</div>"
      ],
      "text/plain": [
       "      Index          User Id First Name  Last Name     Sex  \\\n",
       "0         1  5f10e9D33fC5f2b       Sara    Mcguire  Female   \n",
       "1         2  751cD1cbF77e005     Alisha     Hebert    Male   \n",
       "2         3  DcEFDB2D2e62bF9  Gwendolyn   Sheppard    Male   \n",
       "3         4  C88661E02EEDA9e   Kristine     Mccann  Female   \n",
       "4         5  fafF1aBDebaB2a6      Bobby    Pittman  Female   \n",
       "...     ...              ...        ...        ...     ...   \n",
       "9995   9996  D66F0e4EdFc35e6       Tina    Sherman    Male   \n",
       "9996   9997  c753d8B9F5b6054       Earl   Jennings  Female   \n",
       "9997   9998  Fb2c7daAdD82dAE      Ellen  Dominguez  Female   \n",
       "9998   9999  34D88Ffc743Ca5B       Emma      Clark    Male   \n",
       "9999  10000  82D540ce0BE556f    Katrina   Schwartz  Female   \n",
       "\n",
       "                            Email                   Phone Date of birth  \\\n",
       "0              tsharp@example.net      (971)643-6089x9160    1921-08-17   \n",
       "1      vincentgarrett@example.net   +1-114-355-1841x78347    1969-06-28   \n",
       "2     mercadojonathan@example.com              9017807728    1915-09-25   \n",
       "3           lindsay55@example.com   +1-607-333-9911x59088    1978-07-27   \n",
       "4       blevinsmorgan@example.com              3739847538    1989-11-17   \n",
       "...                           ...                     ...           ...   \n",
       "9995  bartlettcolleen@example.org      (455)476-4044x5755    1974-07-28   \n",
       "9996     andreabenton@example.com            009.056.6505    1932-08-20   \n",
       "9997    michaelayoder@example.net        409-428-4297x469    1966-06-06   \n",
       "9998      pstrickland@example.com            849-868-8653    1907-05-09   \n",
       "9999         andres56@example.org  001-874-330-5546x16770    1935-08-14   \n",
       "\n",
       "                              Job Title  \n",
       "0                 Editor, commissioning  \n",
       "1                    Broadcast engineer  \n",
       "2                      Industrial buyer  \n",
       "3                 Multimedia specialist  \n",
       "4     Planning and development surveyor  \n",
       "...                                 ...  \n",
       "9995           Scientist, physiological  \n",
       "9996                  Warehouse manager  \n",
       "9997                             Lawyer  \n",
       "9998              Accounting technician  \n",
       "9999                  Drilling engineer  \n",
       "\n",
       "[10000 rows x 9 columns]"
      ]
     },
     "execution_count": 85,
     "metadata": {},
     "output_type": "execute_result"
    }
   ],
   "source": [
    "email_df = pd.read_csv('/home/mseifoori/Machine-Learning-Exercises/people-10000.csv')\n",
    "email_df"
   ]
  },
  {
   "cell_type": "code",
   "execution_count": 99,
   "id": "494accc5",
   "metadata": {},
   "outputs": [],
   "source": [
    "email_df['Date of birth'] = email_df['Date of birth'].astype('datetime64[s]')"
   ]
  },
  {
   "cell_type": "code",
   "execution_count": 100,
   "id": "8385d8cc",
   "metadata": {},
   "outputs": [
    {
     "data": {
      "text/plain": [
       "0      1921-08-17\n",
       "1      1969-06-28\n",
       "2      1915-09-25\n",
       "3      1978-07-27\n",
       "4      1989-11-17\n",
       "          ...    \n",
       "9995   1974-07-28\n",
       "9996   1932-08-20\n",
       "9997   1966-06-06\n",
       "9998   1907-05-09\n",
       "9999   1935-08-14\n",
       "Name: Date of birth, Length: 10000, dtype: datetime64[s]"
      ]
     },
     "execution_count": 100,
     "metadata": {},
     "output_type": "execute_result"
    }
   ],
   "source": [
    "email_df['Date of birth']"
   ]
  },
  {
   "cell_type": "code",
   "execution_count": 102,
   "id": "7eb7f3c4",
   "metadata": {},
   "outputs": [],
   "source": [
    "email_df['Date of birth'] =  email_df['Date of birth'].dt.strftime('%Y/%m/%d')"
   ]
  },
  {
   "cell_type": "code",
   "execution_count": 103,
   "id": "67533847",
   "metadata": {},
   "outputs": [
    {
     "data": {
      "text/html": [
       "<div>\n",
       "<style scoped>\n",
       "    .dataframe tbody tr th:only-of-type {\n",
       "        vertical-align: middle;\n",
       "    }\n",
       "\n",
       "    .dataframe tbody tr th {\n",
       "        vertical-align: top;\n",
       "    }\n",
       "\n",
       "    .dataframe thead th {\n",
       "        text-align: right;\n",
       "    }\n",
       "</style>\n",
       "<table border=\"1\" class=\"dataframe\">\n",
       "  <thead>\n",
       "    <tr style=\"text-align: right;\">\n",
       "      <th></th>\n",
       "      <th>Index</th>\n",
       "      <th>User Id</th>\n",
       "      <th>First Name</th>\n",
       "      <th>Last Name</th>\n",
       "      <th>Sex</th>\n",
       "      <th>Email</th>\n",
       "      <th>Phone</th>\n",
       "      <th>Date of birth</th>\n",
       "      <th>Job Title</th>\n",
       "    </tr>\n",
       "  </thead>\n",
       "  <tbody>\n",
       "    <tr>\n",
       "      <th>0</th>\n",
       "      <td>1</td>\n",
       "      <td>5f10e9D33fC5f2b</td>\n",
       "      <td>Sara</td>\n",
       "      <td>Mcguire</td>\n",
       "      <td>Female</td>\n",
       "      <td>tsharp@example.net</td>\n",
       "      <td>(971)643-6089x9160</td>\n",
       "      <td>1921/08/17</td>\n",
       "      <td>Editor, commissioning</td>\n",
       "    </tr>\n",
       "    <tr>\n",
       "      <th>1</th>\n",
       "      <td>2</td>\n",
       "      <td>751cD1cbF77e005</td>\n",
       "      <td>Alisha</td>\n",
       "      <td>Hebert</td>\n",
       "      <td>Male</td>\n",
       "      <td>vincentgarrett@example.net</td>\n",
       "      <td>+1-114-355-1841x78347</td>\n",
       "      <td>1969/06/28</td>\n",
       "      <td>Broadcast engineer</td>\n",
       "    </tr>\n",
       "    <tr>\n",
       "      <th>2</th>\n",
       "      <td>3</td>\n",
       "      <td>DcEFDB2D2e62bF9</td>\n",
       "      <td>Gwendolyn</td>\n",
       "      <td>Sheppard</td>\n",
       "      <td>Male</td>\n",
       "      <td>mercadojonathan@example.com</td>\n",
       "      <td>9017807728</td>\n",
       "      <td>1915/09/25</td>\n",
       "      <td>Industrial buyer</td>\n",
       "    </tr>\n",
       "    <tr>\n",
       "      <th>3</th>\n",
       "      <td>4</td>\n",
       "      <td>C88661E02EEDA9e</td>\n",
       "      <td>Kristine</td>\n",
       "      <td>Mccann</td>\n",
       "      <td>Female</td>\n",
       "      <td>lindsay55@example.com</td>\n",
       "      <td>+1-607-333-9911x59088</td>\n",
       "      <td>1978/07/27</td>\n",
       "      <td>Multimedia specialist</td>\n",
       "    </tr>\n",
       "    <tr>\n",
       "      <th>4</th>\n",
       "      <td>5</td>\n",
       "      <td>fafF1aBDebaB2a6</td>\n",
       "      <td>Bobby</td>\n",
       "      <td>Pittman</td>\n",
       "      <td>Female</td>\n",
       "      <td>blevinsmorgan@example.com</td>\n",
       "      <td>3739847538</td>\n",
       "      <td>1989/11/17</td>\n",
       "      <td>Planning and development surveyor</td>\n",
       "    </tr>\n",
       "    <tr>\n",
       "      <th>...</th>\n",
       "      <td>...</td>\n",
       "      <td>...</td>\n",
       "      <td>...</td>\n",
       "      <td>...</td>\n",
       "      <td>...</td>\n",
       "      <td>...</td>\n",
       "      <td>...</td>\n",
       "      <td>...</td>\n",
       "      <td>...</td>\n",
       "    </tr>\n",
       "    <tr>\n",
       "      <th>9995</th>\n",
       "      <td>9996</td>\n",
       "      <td>D66F0e4EdFc35e6</td>\n",
       "      <td>Tina</td>\n",
       "      <td>Sherman</td>\n",
       "      <td>Male</td>\n",
       "      <td>bartlettcolleen@example.org</td>\n",
       "      <td>(455)476-4044x5755</td>\n",
       "      <td>1974/07/28</td>\n",
       "      <td>Scientist, physiological</td>\n",
       "    </tr>\n",
       "    <tr>\n",
       "      <th>9996</th>\n",
       "      <td>9997</td>\n",
       "      <td>c753d8B9F5b6054</td>\n",
       "      <td>Earl</td>\n",
       "      <td>Jennings</td>\n",
       "      <td>Female</td>\n",
       "      <td>andreabenton@example.com</td>\n",
       "      <td>009.056.6505</td>\n",
       "      <td>1932/08/20</td>\n",
       "      <td>Warehouse manager</td>\n",
       "    </tr>\n",
       "    <tr>\n",
       "      <th>9997</th>\n",
       "      <td>9998</td>\n",
       "      <td>Fb2c7daAdD82dAE</td>\n",
       "      <td>Ellen</td>\n",
       "      <td>Dominguez</td>\n",
       "      <td>Female</td>\n",
       "      <td>michaelayoder@example.net</td>\n",
       "      <td>409-428-4297x469</td>\n",
       "      <td>1966/06/06</td>\n",
       "      <td>Lawyer</td>\n",
       "    </tr>\n",
       "    <tr>\n",
       "      <th>9998</th>\n",
       "      <td>9999</td>\n",
       "      <td>34D88Ffc743Ca5B</td>\n",
       "      <td>Emma</td>\n",
       "      <td>Clark</td>\n",
       "      <td>Male</td>\n",
       "      <td>pstrickland@example.com</td>\n",
       "      <td>849-868-8653</td>\n",
       "      <td>1907/05/09</td>\n",
       "      <td>Accounting technician</td>\n",
       "    </tr>\n",
       "    <tr>\n",
       "      <th>9999</th>\n",
       "      <td>10000</td>\n",
       "      <td>82D540ce0BE556f</td>\n",
       "      <td>Katrina</td>\n",
       "      <td>Schwartz</td>\n",
       "      <td>Female</td>\n",
       "      <td>andres56@example.org</td>\n",
       "      <td>001-874-330-5546x16770</td>\n",
       "      <td>1935/08/14</td>\n",
       "      <td>Drilling engineer</td>\n",
       "    </tr>\n",
       "  </tbody>\n",
       "</table>\n",
       "<p>10000 rows × 9 columns</p>\n",
       "</div>"
      ],
      "text/plain": [
       "      Index          User Id First Name  Last Name     Sex  \\\n",
       "0         1  5f10e9D33fC5f2b       Sara    Mcguire  Female   \n",
       "1         2  751cD1cbF77e005     Alisha     Hebert    Male   \n",
       "2         3  DcEFDB2D2e62bF9  Gwendolyn   Sheppard    Male   \n",
       "3         4  C88661E02EEDA9e   Kristine     Mccann  Female   \n",
       "4         5  fafF1aBDebaB2a6      Bobby    Pittman  Female   \n",
       "...     ...              ...        ...        ...     ...   \n",
       "9995   9996  D66F0e4EdFc35e6       Tina    Sherman    Male   \n",
       "9996   9997  c753d8B9F5b6054       Earl   Jennings  Female   \n",
       "9997   9998  Fb2c7daAdD82dAE      Ellen  Dominguez  Female   \n",
       "9998   9999  34D88Ffc743Ca5B       Emma      Clark    Male   \n",
       "9999  10000  82D540ce0BE556f    Katrina   Schwartz  Female   \n",
       "\n",
       "                            Email                   Phone Date of birth  \\\n",
       "0              tsharp@example.net      (971)643-6089x9160    1921/08/17   \n",
       "1      vincentgarrett@example.net   +1-114-355-1841x78347    1969/06/28   \n",
       "2     mercadojonathan@example.com              9017807728    1915/09/25   \n",
       "3           lindsay55@example.com   +1-607-333-9911x59088    1978/07/27   \n",
       "4       blevinsmorgan@example.com              3739847538    1989/11/17   \n",
       "...                           ...                     ...           ...   \n",
       "9995  bartlettcolleen@example.org      (455)476-4044x5755    1974/07/28   \n",
       "9996     andreabenton@example.com            009.056.6505    1932/08/20   \n",
       "9997    michaelayoder@example.net        409-428-4297x469    1966/06/06   \n",
       "9998      pstrickland@example.com            849-868-8653    1907/05/09   \n",
       "9999         andres56@example.org  001-874-330-5546x16770    1935/08/14   \n",
       "\n",
       "                              Job Title  \n",
       "0                 Editor, commissioning  \n",
       "1                    Broadcast engineer  \n",
       "2                      Industrial buyer  \n",
       "3                 Multimedia specialist  \n",
       "4     Planning and development surveyor  \n",
       "...                                 ...  \n",
       "9995           Scientist, physiological  \n",
       "9996                  Warehouse manager  \n",
       "9997                             Lawyer  \n",
       "9998              Accounting technician  \n",
       "9999                  Drilling engineer  \n",
       "\n",
       "[10000 rows x 9 columns]"
      ]
     },
     "execution_count": 103,
     "metadata": {},
     "output_type": "execute_result"
    }
   ],
   "source": [
    "email_df"
   ]
  },
  {
   "cell_type": "code",
   "execution_count": 105,
   "id": "12c38c40",
   "metadata": {},
   "outputs": [],
   "source": [
    "email_df['Date of birth'] = email_df['Date of birth'].astype('datetime64[s]')"
   ]
  },
  {
   "cell_type": "code",
   "execution_count": 107,
   "id": "40bb3d4d",
   "metadata": {},
   "outputs": [
    {
     "data": {
      "text/plain": [
       "0      1921-08-17 00:00:00+00:00\n",
       "1      1969-06-28 00:00:00+00:00\n",
       "2      1915-09-25 00:00:00+00:00\n",
       "3      1978-07-27 00:00:00+00:00\n",
       "4      1989-11-17 00:00:00+00:00\n",
       "                  ...           \n",
       "9995   1974-07-28 00:00:00+00:00\n",
       "9996   1932-08-20 00:00:00+00:00\n",
       "9997   1966-06-06 00:00:00+00:00\n",
       "9998   1907-05-09 00:00:00+00:00\n",
       "9999   1935-08-14 00:00:00+00:00\n",
       "Name: Date of birth, Length: 10000, dtype: datetime64[s, UTC]"
      ]
     },
     "execution_count": 107,
     "metadata": {},
     "output_type": "execute_result"
    }
   ],
   "source": [
    "email_df['Date of birth'].dt.tz_localize('UTC')"
   ]
  }
 ],
 "metadata": {
  "kernelspec": {
   "display_name": "my_projects_env",
   "language": "python",
   "name": "python3"
  },
  "language_info": {
   "codemirror_mode": {
    "name": "ipython",
    "version": 3
   },
   "file_extension": ".py",
   "mimetype": "text/x-python",
   "name": "python",
   "nbconvert_exporter": "python",
   "pygments_lexer": "ipython3",
   "version": "3.13.5"
  }
 },
 "nbformat": 4,
 "nbformat_minor": 5
}
